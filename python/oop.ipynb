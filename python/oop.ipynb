{
 "cells": [
  {
   "cell_type": "markdown",
   "metadata": {},
   "source": [
    "Object oriented programming:\n",
    "_______________________________\n",
    "Object-Oriented Programming (OOP) is a programming paradigm based on the concept of \"objects,\" which can contain data in the form of fields (often known as attributes or properties) and code in the form of procedures (often known as methods). OOP focuses on objects that interact with one another, making it a powerful way to organize and structure software."
   ]
  },
  {
   "cell_type": "markdown",
   "metadata": {},
   "source": [
    "CLASS:-> class is a blue print that  defines the way to write your code\n",
    "      ->user defined data type\n",
    "      -> declaring\n",
    "           class classname:\n",
    "           //////body///////\n",
    "       -> calling\n",
    "             \n",
    "             "
   ]
  },
  {
   "cell_type": "markdown",
   "metadata": {},
   "source": [
    "object?_---->An instance of a class. When a class is defined, no memory is allocated until an object of that class is created.\n",
    "\n",
    "\n",
    "In programming, particularly in object-oriented programming (OOP), an object is a self-contained unit that combines data and functions (also known as methods) that manipulate the data. Objects are instances of classes, which can be thought of as blueprints for creating objects.\n",
    "\n",
    "Key Concepts\n",
    "________________________________________________________________\n",
    "instance?---->A specific object created from a class. It represents an individual, concrete manifestation of the class with actual values assigned to the attributes defined by the class.\n",
    "\n",
    "what is a constructor?\n",
    "what are methods?\n",
    "difference between function and method?\n"
   ]
  },
  {
   "cell_type": "code",
   "execution_count": 19,
   "metadata": {},
   "outputs": [],
   "source": [
    "class College:\n",
    "    # everything is properties of college present inside this class\n",
    "    # class variable\n",
    "     college_name=\"raffles university\"\n",
    "     college_city=\"neemrana\"\n",
    "    # constructor->it is a kind of special function which is used to initialize the variables\n",
    "\n",
    "    #  instance variable constructor\n",
    "    #  you will not be need to call the constructor\n",
    "    # constructor executes automaticaly when you will create an object\n",
    "    \n",
    "     def __init__(self,cse_hod,ece_hod,electrical_hod):\n",
    "        # instance variable\n",
    "        self.college_cse_hod =cse_hod # here college_cse_hod could be anyother name ec cs_hod,etc\n",
    "        self.college_ece_hod =ece_hod\n",
    "        self.college_electrical_hod = electrical_hod\n",
    "        self.student_marks=[25,42,35,42,41,47,49,39,29,46,47]\n",
    "        print(\"constructor called!\")\n",
    "     def display(self):\n",
    "        #  print(\"my college city\",college_city) this will show error\n",
    "         print(\"my collge name\",self.college_name)# this self==obj this reference to the object\n",
    "         print(\"my hod\",self.college_cse_hod)\n",
    "         print(\"my college city\",self.college_city)  \n",
    "\n",
    "     def average_marks(self):\n",
    "         marks=self.student_marks\n",
    "         print(marks)\n",
    "         totalsum=0\n",
    "         for item in marks:\n",
    "             totalsum+=item\n",
    "\n",
    "         average_marks= totalsum/len(marks)\n",
    "         return average_marks\n",
    "         \n",
    "\n"
   ]
  },
  {
   "cell_type": "markdown",
   "metadata": {},
   "source": [
    "## self is a default parameter\n",
    "\n",
    "In Python, the self keyword is used within a class to refer to the instance of the class itself. It is used to access instance variables and methods from within class methods. When defining methods in a class, the first parameter of each method (including the constructor) must be self, which represents the instance of the class.\n",
    "__init__ Method:\n",
    "\n",
    "This is the constructor method in Python. It initializes the object's attributes. The self parameter is used to refer to the instance variables name and age.\n"
   ]
  },
  {
   "cell_type": "code",
   "execution_count": 20,
   "metadata": {},
   "outputs": [
    {
     "name": "stdout",
     "output_type": "stream",
     "text": [
      "constructor called!\n"
     ]
    }
   ],
   "source": [
    "# College.college_city\n",
    "# College.college_name\n",
    "# College.college_cse_hod\n",
    "# obj =College() this will show type error\n",
    "# for accessing class varaiable outside from outside we use onject(obj)\n",
    "# obj =College(cse_hod=\"manoj sharma\",ece_hod=\"uday pratap\",electrical_hod=\"rahul trivedi\")\n",
    "obj1 =College(cse_hod=\"harsh sharma\",ece_hod=\"uday pratap\",electrical_hod=\"hariom trivedi\")\n",
    "# obj2 =College(cse_hod=\"harsh sharma\",ece_hod=\"uday pratap\",electrical_hod=\"hariom trivedi\")"
   ]
  },
  {
   "cell_type": "code",
   "execution_count": 21,
   "metadata": {},
   "outputs": [],
   "source": [
    "# obj.display()"
   ]
  },
  {
   "cell_type": "code",
   "execution_count": 22,
   "metadata": {},
   "outputs": [
    {
     "name": "stdout",
     "output_type": "stream",
     "text": [
      "[25, 42, 35, 42, 41, 47, 49, 39, 29, 46, 47]\n"
     ]
    },
    {
     "data": {
      "text/plain": [
       "40.18181818181818"
      ]
     },
     "execution_count": 22,
     "metadata": {},
     "output_type": "execute_result"
    }
   ],
   "source": [
    "obj1.average_marks()"
   ]
  },
  {
   "cell_type": "code",
   "execution_count": 23,
   "metadata": {},
   "outputs": [],
   "source": [
    "# obj2.display()"
   ]
  },
  {
   "cell_type": "code",
   "execution_count": 24,
   "metadata": {},
   "outputs": [],
   "source": [
    "# obj.college_cse_hod"
   ]
  },
  {
   "cell_type": "code",
   "execution_count": 25,
   "metadata": {},
   "outputs": [],
   "source": [
    "# object or instance\n",
    "# how to create an object\n",
    "# obj=College()\n",
    "\n",
    "\n",
    "# print(College.college_name)\n",
    "\n",
    "# print(college_name) this will show error"
   ]
  },
  {
   "cell_type": "code",
   "execution_count": 26,
   "metadata": {},
   "outputs": [],
   "source": [
    "# these are class variables\n",
    "# College.college_name\n",
    "\n",
    "# College.college_city"
   ]
  },
  {
   "cell_type": "code",
   "execution_count": 27,
   "metadata": {},
   "outputs": [],
   "source": [
    "# obj1=College()\n",
    "# obj2=College()\n",
    "# obj3=College()\n"
   ]
  },
  {
   "cell_type": "code",
   "execution_count": 28,
   "metadata": {},
   "outputs": [],
   "source": [
    "# obj1.college_name=\"poornima university\""
   ]
  },
  {
   "cell_type": "code",
   "execution_count": 29,
   "metadata": {},
   "outputs": [],
   "source": [
    "# print(/obj1.college_name)"
   ]
  },
  {
   "cell_type": "code",
   "execution_count": 30,
   "metadata": {},
   "outputs": [],
   "source": [
    "# print(obj2.college_name)"
   ]
  },
  {
   "cell_type": "code",
   "execution_count": 31,
   "metadata": {},
   "outputs": [],
   "source": [
    "# type(obj)\n"
   ]
  },
  {
   "cell_type": "code",
   "execution_count": 36,
   "metadata": {},
   "outputs": [],
   "source": [
    "class Hello:\n",
    "    def __init__(self):\n",
    "        self.random_number=[52,14,25,36,96,85,74,47,58,69,25,6,45,63,67,81,9,1,7,1,2,13,1,45,44]\n",
    "\n",
    "\n",
    "        \n",
    "        # method even no and odd no. count\n",
    "    def even_number(self):\n",
    "        print(self.random_number)\n",
    "        evensum=0\n",
    "        count=0\n",
    "        for items in self.random_number:\n",
    "            if items%2==0 and items!=0:\n",
    "                evensum+=items\n",
    "                count+=1\n",
    "\n",
    "\n",
    "        average_even=evensum/count \n",
    "        return average_even\n",
    "    \n",
    "    def target_finder(self,item):\n",
    "        number =self.random_number\n",
    "        index =0\n",
    "        for element in number:\n",
    "            if element==item:\n",
    "                return index\n",
    "\n",
    "            index+=1\n",
    "\n",
    "        return -1  \n",
    "    def odd_number(self):\n",
    "        number =self.random_number\n",
    "        count=0\n",
    "        for item in number:\n",
    "            if item %2!=0:\n",
    "                count+=1  \n",
    "        return count        \n",
    "\n",
    "                  "
   ]
  },
  {
   "cell_type": "code",
   "execution_count": 37,
   "metadata": {},
   "outputs": [
    {
     "name": "stdout",
     "output_type": "stream",
     "text": [
      "[52, 14, 25, 36, 96, 85, 74, 47, 58, 69, 25, 6, 45, 63, 67, 81, 9, 1, 7, 1, 2, 13, 1, 45, 44]\n"
     ]
    },
    {
     "data": {
      "text/plain": [
       "16"
      ]
     },
     "execution_count": 37,
     "metadata": {},
     "output_type": "execute_result"
    }
   ],
   "source": [
    "obj=Hello()\n",
    "obj.even_number()\n",
    "obj.target_finder(85)\n",
    "obj.odd_number()\n",
    "\n"
   ]
  },
  {
   "cell_type": "code",
   "execution_count": 34,
   "metadata": {},
   "outputs": [
    {
     "name": "stdout",
     "output_type": "stream",
     "text": [
      "Name: Alice, Age: 30\n",
      "Name: Bob, Age: 30\n"
     ]
    }
   ],
   "source": [
    "# example from chatgpt\n",
    "class Person:\n",
    "    def __init__(self, name, age):\n",
    "        self.name = name  # Using 'self' to refer to instance variable 'name'\n",
    "        self.age = age    # Using 'self' to refer to instance variable 'age'\n",
    "\n",
    "    def display_info(self):\n",
    "        print(f\"Name: {self.name}, Age: {self.age}\")  # Using 'self' to access instance variables\n",
    "\n",
    "    def set_name(self, name):\n",
    "        self.name = name  # Using 'self' to refer to the instance variable 'name'\n",
    "\n",
    "# Creating an object of the Person class\n",
    "person1 = Person(\"Alice\", 30)\n",
    "person1.display_info()  # Output: Name: Alice, Age: 30\n",
    "\n",
    "# Changing the name using the set_name method\n",
    "person1.set_name(\"Bob\")\n",
    "person1.display_info()  # Output: Name: Bob, Age: 30\n",
    "\n",
    "# Explanation\n",
    "# __init__ Method:\n",
    "\n",
    "# This is the constructor method in Python. It initializes the object's attributes. The self parameter is used to refer to the instance variables name and age.\n",
    "# display_info Method:\n",
    "\n",
    "# This method uses self to access the instance variables name and age and print them.\n",
    "# set_name Method:\n",
    "\n",
    "# This method uses self to modify the instance variable name.\n",
    "# Key Points\n",
    "# Instance Variables: Using self.name and self.age allows the method to reference the attributes of the particular instance of the class.\n",
    "# Instance Methods: When you define a method within a class, you need to include self as the first parameter to ensure the method can access the instance's attributes and other methods.\n",
    "# Creating Objects: When you create an object of the class, like person1 = Person(\"Alice\", 30), the self parameter automatically refers to person1 in the methods.\n",
    "\n"
   ]
  },
  {
   "cell_type": "code",
   "execution_count": 35,
   "metadata": {},
   "outputs": [],
   "source": [
    "# _____________________homework______\n",
    "# ........percentage finder and many more  questions on class.............."
   ]
  }
 ],
 "metadata": {
  "kernelspec": {
   "display_name": "Python 3",
   "language": "python",
   "name": "python3"
  },
  "language_info": {
   "codemirror_mode": {
    "name": "ipython",
    "version": 3
   },
   "file_extension": ".py",
   "mimetype": "text/x-python",
   "name": "python",
   "nbconvert_exporter": "python",
   "pygments_lexer": "ipython3",
   "version": "3.12.4"
  }
 },
 "nbformat": 4,
 "nbformat_minor": 2
}
