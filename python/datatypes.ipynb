{
 "cells": [
  {
   "cell_type": "markdown",
   "metadata": {},
   "source": [
    "Python has several built-in data types, which can be categorized into the following main types. Here’s a summary of the total number of primary data types in Python:\n",
    "\n",
    "### Numeric Types\n",
    "1. **int**: Integer values.\n",
    "2. **float**: Floating-point numbers.\n",
    "3. **complex**: Complex numbers.\n",
    "\n",
    "### Sequence Types\n",
    "4. **str**: Strings.\n",
    "5. **list**: Lists.\n",
    "6. **tuple**: Tuples.\n",
    "7. **range**: Range objects.\n",
    "\n",
    "### Mapping Type\n",
    "8. **dict**: Dictionaries.\n",
    "\n",
    "### Set Types\n",
    "9. **set**: Sets.\n",
    "10. **frozenset**: Immutable sets.\n",
    "\n",
    "### Boolean Type\n",
    "11. **bool**: Boolean values (True or False).\n",
    "\n",
    "### Special Type\n",
    "12. **NoneType**: Represents the absence of a value (None).\n",
    "\n",
    "### Binary Types\n",
    "13. **bytes**: Immutable sequences of bytes.\n",
    "14. **bytearray**: Mutable sequences of bytes.\n",
    "15. **memoryview**: Memory views for binary data.\n",
    "\n",
    "### Total\n",
    "In summary, there are **15 primary built-in data types** in Python:\n",
    "\n",
    "1. `int`\n",
    "2. `float`\n",
    "3. `complex`\n",
    "4. `str`\n",
    "5. `list`\n",
    "6. `tuple`\n",
    "7. `range`\n",
    "8. `dict`\n",
    "9. `set`\n",
    "10. `frozenset`\n",
    "11. `bool`\n",
    "12. `NoneType`\n",
    "13. `bytes`\n",
    "14. `bytearray`\n",
    "15. `memoryview`\n",
    "\n",
    "These types cover most of the needs for basic data manipulation in Python."
   ]
  }
 ],
 "metadata": {
  "language_info": {
   "name": "python"
  }
 },
 "nbformat": 4,
 "nbformat_minor": 2
}
