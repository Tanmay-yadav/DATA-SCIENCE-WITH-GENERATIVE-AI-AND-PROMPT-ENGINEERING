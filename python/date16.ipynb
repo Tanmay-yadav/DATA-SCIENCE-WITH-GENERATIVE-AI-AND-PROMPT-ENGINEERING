{
 "cells": [
  {
   "cell_type": "code",
   "execution_count": 1,
   "metadata": {},
   "outputs": [
    {
     "name": "stdout",
     "output_type": "stream",
     "text": [
      "<class 'module'>\n"
     ]
    }
   ],
   "source": [
    "import numpy as np\n",
    "\n",
    "print(type(np))"
   ]
  },
  {
   "cell_type": "markdown",
   "metadata": {},
   "source": [
    "The line import numpy as np is a common statement used in Python to import the NumPy library and assign it the alias np. Here’s a breakdown of what this line does:\n",
    "\n",
    "Import Statement: import numpy: This instructs Python to load the NumPy library into your current environment. NumPy is a powerful numerical computing library in Python, widely used for array computations and mathematical operations.\n",
    "\n",
    "Alias Assignment: as np: This part of the statement assigns an alias np to NumPy. This alias allows you to refer to NumPy functions and objects using np instead of typing out numpy each time, which can make your code more concise and readable.\n",
    "\n",
    "Why Use NumPy?\n",
    "Efficient Arrays: NumPy provides an array object that is more efficient than Python's built-in list for numerical operations.\n",
    "Mathematical Functions: NumPy includes a wide range of mathematical functions for operations on these arrays.\n",
    "Linear Algebra Operations: NumPy supports linear algebra operations, Fourier transforms, and random number generation.\n",
    "\n",
    "NumPy (Numerical Python) is a fundamental library in Python for numerical computing. It provides support for large, multi-dimensional arrays and matrices, along with a collection of mathematical functions to operate on these arrays efficiently. Here are several reasons why NumPy is widely used and essential in the Python ecosystem:\n",
    "\n",
    "### 1. **Efficient Array Operations:**\n",
    "   - NumPy arrays are more efficient than Python lists for numerical operations. They are implemented in C and allow for vectorized operations, where operations are applied to whole arrays instead of individual elements. This reduces the need for explicit loops in Python, making code execution faster and more concise.\n",
    "\n",
    "### 2. **Multi-dimensional Data Representation:**\n",
    "   - NumPy arrays can represent multi-dimensional data (e.g., matrices or tensors) with ease. This makes NumPy suitable for handling datasets used in fields such as machine learning, scientific computing, and data analysis.\n",
    "\n",
    "### 3. **Broad Range of Mathematical Functions:**\n",
    "   - NumPy provides a rich collection of mathematical functions that operate on arrays. These include basic arithmetic operations, trigonometric functions, statistical functions, linear algebra routines, Fourier transforms, and more. These functions are optimized for performance and provide consistent results across different platforms.\n",
    "\n",
    "### 4. **Integration with Other Libraries:**\n",
    "   - NumPy is a foundational library in the Python scientific computing stack. It integrates well with other libraries like SciPy (Scientific Python) for advanced mathematical functions, Matplotlib for plotting, Pandas for data manipulation and analysis, and scikit-learn for machine learning tasks.\n",
    "\n",
    "### 5. **Memory Efficiency:**\n",
    "   - NumPy arrays are memory efficient compared to Python lists. They allow for better memory management and enable faster access and manipulation of data. This is crucial when working with large datasets that cannot fit into the computer's main memory.\n",
    "\n",
    "### 6. **Support for Broadcasting:**\n",
    "   - Broadcasting is a powerful feature in NumPy that allows operations to be performed on arrays of different shapes. NumPy automatically broadcasts these operations, making code more readable and reducing the need for explicit looping constructs.\n",
    "\n",
    "### 7. **Platform for Scientific Computing:**\n",
    "   - NumPy forms the basis for many scientific and numerical computing libraries in Python. Its consistent interface and robust functionality make it a preferred choice for researchers, engineers, and data scientists working on computational and data-intensive applications.\n",
    "\n",
    "### Example Usage:\n",
    "```python\n",
    "import numpy as np\n",
    "\n",
    "# Create a NumPy array\n",
    "arr = np.array([1, 2, 3, 4, 5])\n",
    "\n",
    "# Perform operations\n",
    "mean_value = np.mean(arr)\n",
    "print(\"Mean:\", mean_value)\n",
    "```\n",
    "\n",
    "In this example:\n",
    "- `np.array([1, 2, 3, 4, 5])` creates a NumPy array.\n",
    "- `np.mean(arr)` calculates the mean of the array `arr` using a NumPy function.\n",
    "\n",
    "### Conclusion:\n",
    "NumPy's versatility, performance, and extensive mathematical functions make it indispensable for numerical computations and data manipulation in Python. Its efficient handling of arrays, integration with other libraries, and support for advanced operations ensure that it remains a cornerstone of scientific computing and data analysis workflows in Python.\n",
    "\n",
    "```python\n",
    "import numpy as np\n",
    "\n",
    "# Create a NumPy array\n",
    "arr = np.array([1, 2, 3, 4, 5])\n",
    "\n",
    "# Perform a mathematical operation (example: square each element)\n",
    "squared_arr = np.square(arr)\n",
    "\n",
    "print(squared_arr)\n",
    "\n",
    "\n",
    "\n",
    "```\n",
    "In this example:\n",
    "\n",
    "np.array([1, 2, 3, 4, 5]) creates a NumPy array.\n",
    "np.square(arr) computes the square of each element in the array using NumPy's vectorized operations."
   ]
  },
  {
   "cell_type": "code",
   "execution_count": 2,
   "metadata": {},
   "outputs": [
    {
     "data": {
      "text/plain": [
       "array([25, 41, 63, 66, 85, 74])"
      ]
     },
     "execution_count": 2,
     "metadata": {},
     "output_type": "execute_result"
    }
   ],
   "source": [
    "arr= np.array([25,41,63,66,85,74])\n",
    "arr"
   ]
  },
  {
   "cell_type": "code",
   "execution_count": 3,
   "metadata": {},
   "outputs": [
    {
     "data": {
      "text/plain": [
       "numpy.ndarray"
      ]
     },
     "execution_count": 3,
     "metadata": {},
     "output_type": "execute_result"
    }
   ],
   "source": [
    "type(arr)\n",
    "#ndarray ==>n dimensiional array"
   ]
  },
  {
   "cell_type": "code",
   "execution_count": 4,
   "metadata": {},
   "outputs": [
    {
     "data": {
      "text/plain": [
       "6"
      ]
     },
     "execution_count": 4,
     "metadata": {},
     "output_type": "execute_result"
    }
   ],
   "source": [
    "arr.size #no.of item"
   ]
  },
  {
   "cell_type": "code",
   "execution_count": 5,
   "metadata": {},
   "outputs": [
    {
     "data": {
      "text/plain": [
       "6"
      ]
     },
     "execution_count": 5,
     "metadata": {},
     "output_type": "execute_result"
    }
   ],
   "source": [
    "len(arr)"
   ]
  },
  {
   "cell_type": "code",
   "execution_count": 6,
   "metadata": {},
   "outputs": [
    {
     "data": {
      "text/plain": [
       "1"
      ]
     },
     "execution_count": 6,
     "metadata": {},
     "output_type": "execute_result"
    }
   ],
   "source": [
    "arr.ndim # to check the dimension of array"
   ]
  },
  {
   "cell_type": "code",
   "execution_count": 7,
   "metadata": {},
   "outputs": [
    {
     "data": {
      "text/plain": [
       "array(['25', '41', '63', '66', '85', '74', '25.01', 'upflairs', 'True'],\n",
       "      dtype='<U32')"
      ]
     },
     "execution_count": 7,
     "metadata": {},
     "output_type": "execute_result"
    }
   ],
   "source": [
    "arr= np.array([25,41,63,66,85,74,25.01,\"upflairs\",True])\n",
    "arr"
   ]
  },
  {
   "cell_type": "code",
   "execution_count": 8,
   "metadata": {},
   "outputs": [
    {
     "data": {
      "text/plain": [
       "dtype('<U32')"
      ]
     },
     "execution_count": 8,
     "metadata": {},
     "output_type": "execute_result"
    }
   ],
   "source": [
    "arr.dtype\n"
   ]
  },
  {
   "cell_type": "code",
   "execution_count": 9,
   "metadata": {},
   "outputs": [
    {
     "data": {
      "text/plain": [
       "'2.0.0'"
      ]
     },
     "execution_count": 9,
     "metadata": {},
     "output_type": "execute_result"
    }
   ],
   "source": [
    "np.__version__\n"
   ]
  },
  {
   "cell_type": "markdown",
   "metadata": {},
   "source": [
    "The expression np.__version__ is used to retrieve the version number of the NumPy library that is currently imported into your Python environment. Here’s what it does:\n",
    "\n",
    "np: This refers to the alias np that you assigned to the NumPy library when you imported it using import numpy as np.\n",
    ".__version__: This is a special attribute of the NumPy module that holds the version information of the library."
   ]
  },
  {
   "cell_type": "code",
   "execution_count": 10,
   "metadata": {},
   "outputs": [
    {
     "data": {
      "text/plain": [
       "array([25, 41, 63, 66, 85, 74])"
      ]
     },
     "execution_count": 10,
     "metadata": {},
     "output_type": "execute_result"
    }
   ],
   "source": [
    "arr= np.array([25,41,63,66,85,74])\n",
    "arr"
   ]
  },
  {
   "cell_type": "code",
   "execution_count": 11,
   "metadata": {},
   "outputs": [
    {
     "data": {
      "text/plain": [
       "array([25, 41, 63, 66, 85, 74])"
      ]
     },
     "execution_count": 11,
     "metadata": {},
     "output_type": "execute_result"
    }
   ],
   "source": [
    "# arr[-1]=500\n",
    "arr[2:4]\n",
    "arr[::]# start=0,stoping =end,jump==1"
   ]
  },
  {
   "cell_type": "code",
   "execution_count": 12,
   "metadata": {},
   "outputs": [
    {
     "data": {
      "text/plain": [
       "array([ 50,  82, 126, 132, 170, 148])"
      ]
     },
     "execution_count": 12,
     "metadata": {},
     "output_type": "execute_result"
    }
   ],
   "source": [
    "arr*2"
   ]
  },
  {
   "cell_type": "code",
   "execution_count": 13,
   "metadata": {},
   "outputs": [
    {
     "data": {
      "text/plain": [
       "np.int64(85)"
      ]
     },
     "execution_count": 13,
     "metadata": {},
     "output_type": "execute_result"
    }
   ],
   "source": [
    "arr[-2]\n"
   ]
  },
  {
   "cell_type": "code",
   "execution_count": 14,
   "metadata": {},
   "outputs": [
    {
     "data": {
      "text/plain": [
       "array([25, 41, 63, 66, 85, 74])"
      ]
     },
     "execution_count": 14,
     "metadata": {},
     "output_type": "execute_result"
    }
   ],
   "source": [
    "arr[::]# start=0,stoping =end,jump==1\n"
   ]
  },
  {
   "cell_type": "markdown",
   "metadata": {},
   "source": [
    "# 2D  ARRAYs\n"
   ]
  },
  {
   "cell_type": "code",
   "execution_count": 15,
   "metadata": {},
   "outputs": [],
   "source": [
    "ls=[[1,2,3],\n",
    "    [4,5,6],\n",
    "    [7,8,9]]"
   ]
  },
  {
   "cell_type": "code",
   "execution_count": 16,
   "metadata": {},
   "outputs": [
    {
     "name": "stdout",
     "output_type": "stream",
     "text": [
      "[[1 2 3]\n",
      " [4 5 6]\n",
      " [7 8 9]]\n"
     ]
    }
   ],
   "source": [
    "arr2 =np.array(ls)\n",
    "print(arr2)"
   ]
  },
  {
   "cell_type": "code",
   "execution_count": 17,
   "metadata": {},
   "outputs": [
    {
     "data": {
      "text/plain": [
       "list"
      ]
     },
     "execution_count": 17,
     "metadata": {},
     "output_type": "execute_result"
    }
   ],
   "source": [
    "type(ls)"
   ]
  },
  {
   "cell_type": "code",
   "execution_count": 18,
   "metadata": {},
   "outputs": [
    {
     "data": {
      "text/plain": [
       "2"
      ]
     },
     "execution_count": 18,
     "metadata": {},
     "output_type": "execute_result"
    }
   ],
   "source": [
    "arr2.ndim"
   ]
  },
  {
   "cell_type": "code",
   "execution_count": 19,
   "metadata": {},
   "outputs": [
    {
     "data": {
      "text/plain": [
       "array([[1, 2, 3],\n",
       "       [4, 5, 6]])"
      ]
     },
     "execution_count": 19,
     "metadata": {},
     "output_type": "execute_result"
    }
   ],
   "source": [
    "# arr2[0]# for single row only\n",
    "arr2[0:2]#start to end for more than one row"
   ]
  },
  {
   "cell_type": "code",
   "execution_count": 20,
   "metadata": {},
   "outputs": [
    {
     "data": {
      "text/plain": [
       "array([5, 6])"
      ]
     },
     "execution_count": 20,
     "metadata": {},
     "output_type": "execute_result"
    }
   ],
   "source": [
    "\n",
    "# arr2[row,column]=>[row start:stop,col start:end]\n",
    "arr2[1,1:]"
   ]
  },
  {
   "cell_type": "code",
   "execution_count": 21,
   "metadata": {},
   "outputs": [
    {
     "data": {
      "text/plain": [
       "array([[5, 6],\n",
       "       [8, 9]])"
      ]
     },
     "execution_count": 21,
     "metadata": {},
     "output_type": "execute_result"
    }
   ],
   "source": [
    "# arr2[1:3,1:]\n",
    "arr2[-2:,-2:]"
   ]
  },
  {
   "cell_type": "code",
   "execution_count": 22,
   "metadata": {},
   "outputs": [],
   "source": [
    "arr2[-1:-1]=90"
   ]
  },
  {
   "cell_type": "markdown",
   "metadata": {},
   "source": [
    "### filter all those items that are less than equals to 100\n",
    "### comments --> how many item in your arrays"
   ]
  },
  {
   "cell_type": "code",
   "execution_count": 23,
   "metadata": {},
   "outputs": [
    {
     "data": {
      "text/plain": [
       "array([ 26,  76,  85,  34,  15,   1,  58,  39,  62,  55,  31,  18,  84,\n",
       "        30,  10,  60,   9,  91,  35,  99,  61,  45,  47,  98,  98,  65,\n",
       "        48,  92,  24,  49,  99,  25,  72,  58,  75,  75,  20,  32,  77,\n",
       "         1,  76,  43,  94,   1,  47,  11,   8,  23,  69,  75,  84,  62,\n",
       "        25,  33,  40,  26,  42,  87, 100,  96,  60,  90,  56,  28,  48,\n",
       "        48,  81,  10,  48,  55,  33,   1,  57,  65,   6,  76,  69,  44,\n",
       "        28,  51,  79,  98,  10,   5,  71,  49,  70,  21,  97,  39,  23,\n",
       "        16,  64,  29,  60,  41,  42,  90,  93,  22,  92,  16,  21,  93,\n",
       "         9,  62,  53,   6,  78,  12,  91, 100,  20,  62,  10,  69,  70,\n",
       "        59,  19,  95,  30,  52,  17,  38,  19,  26,  84,  57,  41,  54,\n",
       "        31,  78,  56,  16,  27,  27,  35,  94,  33,  83,  26,  51,  27,\n",
       "        24,  75,  95,  35,  14,  50,  95,  27,  75,  68,  24,  19,  88,\n",
       "        68,  62,  38,  14,  42,  35,   4,  12,  79,  71,  97,  13,  62,\n",
       "        39,  72,  34,  68,  27,   1,  62,  76,  51,   6,  71,   2,  79,\n",
       "        18,  97,  97,  33,  93,  81,  33,  68,  53,  71,  26,  62,  73,\n",
       "        82,  66,  22,  90,  85,  38,  10,   7,  16,  73,  12,  21,  42,\n",
       "        27,  48,  83,   8, 100,  21,  53,  68,  14,  28,  54,  10,  31,\n",
       "        59,  73,  70,  26,  62,  96,  41,  62,   9,  63,  11,  82,  55,\n",
       "        85,   2,  46,  10,  56,  32,   8,  64,  22,  15,   2,  13,  90],\n",
       "      dtype=int32)"
      ]
     },
     "execution_count": 23,
     "metadata": {},
     "output_type": "execute_result"
    }
   ],
   "source": [
    "arr= np.random.randint(1,200,500)\n",
    "arr[arr<=100]"
   ]
  },
  {
   "cell_type": "code",
   "execution_count": 24,
   "metadata": {},
   "outputs": [],
   "source": [
    "# for item in arr:\n",
    "#     count=0\n",
    "#     if item<=100:\n",
    "#         count+=1\n",
    "# print(count)        "
   ]
  },
  {
   "cell_type": "code",
   "execution_count": 25,
   "metadata": {},
   "outputs": [
    {
     "data": {
      "text/plain": [
       "247"
      ]
     },
     "execution_count": 25,
     "metadata": {},
     "output_type": "execute_result"
    }
   ],
   "source": [
    "len(arr[arr<=100])"
   ]
  },
  {
   "cell_type": "code",
   "execution_count": 26,
   "metadata": {},
   "outputs": [],
   "source": [
    "# arr.shape(3,3)"
   ]
  },
  {
   "cell_type": "code",
   "execution_count": 27,
   "metadata": {},
   "outputs": [
    {
     "data": {
      "text/plain": [
       "array([[138, 132,  57, 162,  93],\n",
       "       [  4,  55, 116,  17, 161],\n",
       "       [ 98,   1,  23, 160,  23],\n",
       "       [110, 122, 184,  65,  25],\n",
       "       [ 13,  67, 132, 150,  55],\n",
       "       [102, 183, 137, 176,  54],\n",
       "       [165, 161,  51,  38,  32],\n",
       "       [176,  34,  77,  36,  79],\n",
       "       [ 58,   6, 143,  36, 172],\n",
       "       [ 74,  56,  66,  56,  73]], dtype=int32)"
      ]
     },
     "execution_count": 27,
     "metadata": {},
     "output_type": "execute_result"
    }
   ],
   "source": [
    "arr2=np.random.randint(1,200,(10,5))#range 1 to 200 \n",
    "# and the rows =10 and columns =5\n",
    "arr2"
   ]
  },
  {
   "cell_type": "code",
   "execution_count": 28,
   "metadata": {},
   "outputs": [
    {
     "data": {
      "text/plain": [
       "array([[0., 0., 0., 0., 0.],\n",
       "       [0., 0., 0., 0., 0.],\n",
       "       [0., 0., 0., 0., 0.],\n",
       "       [0., 0., 0., 0., 0.],\n",
       "       [0., 0., 0., 0., 0.],\n",
       "       [0., 0., 0., 0., 0.],\n",
       "       [0., 0., 0., 0., 0.],\n",
       "       [0., 0., 0., 0., 0.],\n",
       "       [0., 0., 0., 0., 0.],\n",
       "       [0., 0., 0., 0., 0.]])"
      ]
     },
     "execution_count": 28,
     "metadata": {},
     "output_type": "execute_result"
    }
   ],
   "source": [
    "arr=np.zeros((10,5))\n",
    "arr"
   ]
  },
  {
   "cell_type": "code",
   "execution_count": 29,
   "metadata": {},
   "outputs": [
    {
     "data": {
      "text/plain": [
       "dtype('float64')"
      ]
     },
     "execution_count": 29,
     "metadata": {},
     "output_type": "execute_result"
    }
   ],
   "source": [
    "arr.dtype"
   ]
  },
  {
   "cell_type": "code",
   "execution_count": 30,
   "metadata": {},
   "outputs": [
    {
     "data": {
      "text/plain": [
       "array([[1., 1., 1., 1., 1.],\n",
       "       [1., 1., 1., 1., 1.],\n",
       "       [1., 1., 1., 1., 1.],\n",
       "       [1., 1., 1., 1., 1.],\n",
       "       [1., 1., 1., 1., 1.],\n",
       "       [1., 1., 1., 1., 1.],\n",
       "       [1., 1., 1., 1., 1.],\n",
       "       [1., 1., 1., 1., 1.],\n",
       "       [1., 1., 1., 1., 1.],\n",
       "       [1., 1., 1., 1., 1.]])"
      ]
     },
     "execution_count": 30,
     "metadata": {},
     "output_type": "execute_result"
    }
   ],
   "source": [
    "arr =np.ones((10,5))\n",
    "arr"
   ]
  },
  {
   "cell_type": "code",
   "execution_count": 31,
   "metadata": {},
   "outputs": [
    {
     "data": {
      "text/plain": [
       "[0, 1, 2, 3, 4, 5, 6, 7, 8, 9]"
      ]
     },
     "execution_count": 31,
     "metadata": {},
     "output_type": "execute_result"
    }
   ],
   "source": [
    "ls=[0,1,2,3,4,5,6,7,8,9]\n",
    "ls"
   ]
  },
  {
   "cell_type": "code",
   "execution_count": 32,
   "metadata": {},
   "outputs": [
    {
     "data": {
      "text/plain": [
       "[0, 1, 2, 3, 4, 5, 6, 7, 8, 9]"
      ]
     },
     "execution_count": 32,
     "metadata": {},
     "output_type": "execute_result"
    }
   ],
   "source": [
    "ls=list(range(10))\n",
    "ls"
   ]
  },
  {
   "cell_type": "code",
   "execution_count": 33,
   "metadata": {},
   "outputs": [
    {
     "data": {
      "text/plain": [
       "array([ 0,  1,  2,  3,  4,  5,  6,  7,  8,  9, 10, 11, 12, 13, 14, 15, 16,\n",
       "       17, 18, 19])"
      ]
     },
     "execution_count": 33,
     "metadata": {},
     "output_type": "execute_result"
    }
   ],
   "source": [
    "arr=np.arange(20)\n",
    "arr# always create single dimension array in sorted manner from 0 to 20/range we have given"
   ]
  },
  {
   "cell_type": "code",
   "execution_count": 34,
   "metadata": {},
   "outputs": [
    {
     "data": {
      "text/plain": [
       "array([ 0,  1,  2,  3,  4,  5,  6,  7,  8,  9, 10, 11, 12, 13, 14, 15, 16,\n",
       "       17, 18, 19, 20, 21, 22, 23, 24, 25, 26, 27, 28, 29, 30, 31, 32, 33,\n",
       "       34, 35, 36, 37, 38, 39, 40, 41, 42, 43, 44, 45, 46, 47, 48, 49, 50,\n",
       "       51, 52, 53, 54, 55, 56, 57, 58, 59])"
      ]
     },
     "execution_count": 34,
     "metadata": {},
     "output_type": "execute_result"
    }
   ],
   "source": [
    "arr=np.arange(60)\n",
    "arr"
   ]
  },
  {
   "cell_type": "code",
   "execution_count": 35,
   "metadata": {},
   "outputs": [
    {
     "data": {
      "text/plain": [
       "array([[ 0,  1,  2,  3,  4,  5],\n",
       "       [ 6,  7,  8,  9, 10, 11],\n",
       "       [12, 13, 14, 15, 16, 17],\n",
       "       [18, 19, 20, 21, 22, 23],\n",
       "       [24, 25, 26, 27, 28, 29],\n",
       "       [30, 31, 32, 33, 34, 35],\n",
       "       [36, 37, 38, 39, 40, 41],\n",
       "       [42, 43, 44, 45, 46, 47],\n",
       "       [48, 49, 50, 51, 52, 53],\n",
       "       [54, 55, 56, 57, 58, 59]])"
      ]
     },
     "execution_count": 35,
     "metadata": {},
     "output_type": "execute_result"
    }
   ],
   "source": [
    "arr.reshape(10,6)#10(rows)*6(columns)==60\n",
    "# arr.reshape(10,7)#this will show error because 10*7==70 which is invalis=d as it exceed the range of it"
   ]
  },
  {
   "cell_type": "code",
   "execution_count": 36,
   "metadata": {},
   "outputs": [
    {
     "data": {
      "text/plain": [
       "array([[ 0,  1],\n",
       "       [ 2,  3],\n",
       "       [ 4,  5],\n",
       "       [ 6,  7],\n",
       "       [ 8,  9],\n",
       "       [10, 11],\n",
       "       [12, 13],\n",
       "       [14, 15],\n",
       "       [16, 17],\n",
       "       [18, 19],\n",
       "       [20, 21],\n",
       "       [22, 23],\n",
       "       [24, 25],\n",
       "       [26, 27],\n",
       "       [28, 29],\n",
       "       [30, 31],\n",
       "       [32, 33],\n",
       "       [34, 35],\n",
       "       [36, 37],\n",
       "       [38, 39],\n",
       "       [40, 41],\n",
       "       [42, 43],\n",
       "       [44, 45],\n",
       "       [46, 47],\n",
       "       [48, 49],\n",
       "       [50, 51],\n",
       "       [52, 53],\n",
       "       [54, 55],\n",
       "       [56, 57],\n",
       "       [58, 59]])"
      ]
     },
     "execution_count": 36,
     "metadata": {},
     "output_type": "execute_result"
    }
   ],
   "source": [
    "arr.reshape(30,2)"
   ]
  },
  {
   "cell_type": "markdown",
   "metadata": {},
   "source": [
    "\n",
    "The reshape method in NumPy is used to change the shape (dimensions) of an array without changing its data. Here’s a detailed explanation of how arr.reshape works and its usage:\n",
    "\n",
    "Syntax and Parameters\n",
    "The reshape method in NumPy typically takes one or more arguments:\n",
    "\n",
    "```python\n",
    "\n",
    "arr.reshape(shape, order='C')\n",
    "```\n",
    "arr: This is the NumPy array that you want to reshape.\n",
    "shape: This parameter specifies the new shape that you want the array to have. It can be specified in several formats:\n",
    "A single integer, which means the resulting array will have that many dimensions.\n",
    "A tuple of integers, where each integer specifies the size of the corresponding dimension in the reshaped array. The total number of elements in the reshaped array must match the original array.\n",
    "order: This is an optional parameter that specifies the order of the elements in the reshaped array. It can be 'C' (row-major, C-style) or 'F' (column-major, Fortran-style).\n",
    "How reshape Works\n",
    "Shape Compatibility: The total number of elements in the original array (arr) must be equal to the total number of elements in the reshaped array specified by shape. NumPy will raise an error if these numbers do not match.\n",
    "\n",
    "Data View: reshape does not copy the data; it returns a new view of the original array with the specified shape. This means that modifying the reshaped array will also modify the original array."
   ]
  },
  {
   "cell_type": "markdown",
   "metadata": {},
   "source": [
    "# CREATION OF 3D ARRAY\n"
   ]
  },
  {
   "cell_type": "code",
   "execution_count": 37,
   "metadata": {},
   "outputs": [],
   "source": [
    "arr1=[1,2,3] # 1d array\n",
    "arr2=[[1,2,3],[1,2,3],[1,2,3]] #2d array\n",
    "arr3 = [\n",
    "    [[1, 2, 3], [1, 2, 3], [1, 2, 3]],\n",
    "    [[1, 2, 3], [1, 2, 3], [1, 2, 3]]\n",
    "]#3d array\n"
   ]
  },
  {
   "cell_type": "code",
   "execution_count": 38,
   "metadata": {},
   "outputs": [],
   "source": [
    "import numpy as np"
   ]
  },
  {
   "cell_type": "code",
   "execution_count": 39,
   "metadata": {},
   "outputs": [
    {
     "data": {
      "text/plain": [
       "array([[[ 13,  86, 148,  49],\n",
       "        [191, 111, 135, 172],\n",
       "        [ 71, 172,  91, 199],\n",
       "        [ 78, 125,  60,  98],\n",
       "        [ 79, 117, 150,  12]],\n",
       "\n",
       "       [[105, 104, 166, 137],\n",
       "        [128, 176,  49, 118],\n",
       "        [177, 195, 162,  20],\n",
       "        [ 99,  37,  82, 160],\n",
       "        [ 89,   2, 107, 153]],\n",
       "\n",
       "       [[192, 163, 144,  44],\n",
       "        [159,   7, 184,  25],\n",
       "        [123, 157,  38, 135],\n",
       "        [ 36, 133, 170, 113],\n",
       "        [ 36, 168, 103,  11]]], dtype=int32)"
      ]
     },
     "execution_count": 39,
     "metadata": {},
     "output_type": "execute_result"
    }
   ],
   "source": [
    "arr3=np.random.randint(1,200,(3,5,4))\n",
    "arr3"
   ]
  },
  {
   "cell_type": "markdown",
   "metadata": {},
   "source": [
    "The code `arr3 = np.random.randint(1, 200, (3, 5, 4))` uses NumPy to create a 3-dimensional array named `arr3`. This array has random integers between 1 and 199 (inclusive). The shape of the array is `(3, 5, 4)`, meaning it has:\n",
    "\n",
    "- 3 layers (first dimension)\n",
    "- 5 rows in each layer (second dimension)\n",
    "- 4 columns in each row (third dimension)\n",
    "\n",
    "Here's an example visualization of the structure:\n",
    "\n",
    "```\n",
    "Layer 1:\n",
    "[[a, b, c, d],\n",
    " [e, f, g, h],\n",
    " [i, j, k, l],\n",
    " [m, n, o, p],\n",
    " [q, r, s, t]]\n",
    "\n",
    "Layer 2:\n",
    "[[u, v, w, x],\n",
    " [y, z, aa, bb],\n",
    " [cc, dd, ee, ff],\n",
    " [gg, hh, ii, jj],\n",
    " [kk, ll, mm, nn]]\n",
    "\n",
    "Layer 3:\n",
    "[[oo, pp, qq, rr],\n",
    " [ss, tt, uu, vv],\n",
    " [ww, xx, yy, zz],\n",
    " [aaa, bbb, ccc, ddd],\n",
    " [eee, fff, ggg, hhh]]\n",
    "```\n",
    "\n",
    "Each letter represents a random integer."
   ]
  },
  {
   "cell_type": "code",
   "execution_count": 40,
   "metadata": {},
   "outputs": [
    {
     "data": {
      "text/plain": [
       "3"
      ]
     },
     "execution_count": 40,
     "metadata": {},
     "output_type": "execute_result"
    }
   ],
   "source": [
    "arr3.ndim"
   ]
  },
  {
   "cell_type": "code",
   "execution_count": 41,
   "metadata": {},
   "outputs": [
    {
     "data": {
      "text/plain": [
       "dtype('int32')"
      ]
     },
     "execution_count": 41,
     "metadata": {},
     "output_type": "execute_result"
    }
   ],
   "source": [
    "arr3.dtype"
   ]
  },
  {
   "cell_type": "code",
   "execution_count": 42,
   "metadata": {},
   "outputs": [
    {
     "data": {
      "text/plain": [
       "(3, 5, 4)"
      ]
     },
     "execution_count": 42,
     "metadata": {},
     "output_type": "execute_result"
    }
   ],
   "source": [
    "arr3.shape"
   ]
  },
  {
   "cell_type": "markdown",
   "metadata": {},
   "source": [
    "### how to access the value from the array \n",
    "*arr[table,row,column]<- indexing method"
   ]
  },
  {
   "cell_type": "code",
   "execution_count": 43,
   "metadata": {},
   "outputs": [
    {
     "data": {
      "text/plain": [
       "array([ 89,   2, 107, 153], dtype=int32)"
      ]
     },
     "execution_count": 43,
     "metadata": {},
     "output_type": "execute_result"
    }
   ],
   "source": [
    "arr3[1,4,0:]"
   ]
  },
  {
   "cell_type": "code",
   "execution_count": 44,
   "metadata": {},
   "outputs": [
    {
     "data": {
      "text/plain": [
       "array([[163, 144],\n",
       "       [  7, 184]], dtype=int32)"
      ]
     },
     "execution_count": 44,
     "metadata": {},
     "output_type": "execute_result"
    }
   ],
   "source": [
    "arr3[2,0:2,1:3]"
   ]
  },
  {
   "cell_type": "code",
   "execution_count": 45,
   "metadata": {},
   "outputs": [
    {
     "data": {
      "text/plain": [
       "array([[105, 104, 166, 137]], dtype=int32)"
      ]
     },
     "execution_count": 45,
     "metadata": {},
     "output_type": "execute_result"
    }
   ],
   "source": [
    "# arr3[0,0:1,0:]\n",
    "arr3[-2,-5:-4,-5:]"
   ]
  },
  {
   "cell_type": "code",
   "execution_count": 46,
   "metadata": {},
   "outputs": [
    {
     "data": {
      "text/plain": [
       "array([[192, 163, 144,  44]], dtype=int32)"
      ]
     },
     "execution_count": 46,
     "metadata": {},
     "output_type": "execute_result"
    }
   ],
   "source": [
    "arr3[-1,-5:-4,-5:]"
   ]
  },
  {
   "cell_type": "markdown",
   "metadata": {},
   "source": [
    "# OTHER FUNCTIONS IN NUMPY AND THEIR FUNCTIONALITY"
   ]
  },
  {
   "cell_type": "code",
   "execution_count": 47,
   "metadata": {},
   "outputs": [
    {
     "data": {
      "text/plain": [
       "array([9, 7, 8])"
      ]
     },
     "execution_count": 47,
     "metadata": {},
     "output_type": "execute_result"
    }
   ],
   "source": [
    "arr=np.array([9,7,8])\n",
    "arr"
   ]
  },
  {
   "cell_type": "code",
   "execution_count": 48,
   "metadata": {},
   "outputs": [
    {
     "data": {
      "text/plain": [
       "np.int64(9)"
      ]
     },
     "execution_count": 48,
     "metadata": {},
     "output_type": "execute_result"
    }
   ],
   "source": [
    "max(arr)"
   ]
  },
  {
   "cell_type": "code",
   "execution_count": 49,
   "metadata": {},
   "outputs": [
    {
     "data": {
      "text/plain": [
       "np.int64(7)"
      ]
     },
     "execution_count": 49,
     "metadata": {},
     "output_type": "execute_result"
    }
   ],
   "source": [
    "min(arr)"
   ]
  },
  {
   "cell_type": "code",
   "execution_count": 50,
   "metadata": {},
   "outputs": [
    {
     "data": {
      "text/plain": [
       "np.float64(8.0)"
      ]
     },
     "execution_count": 50,
     "metadata": {},
     "output_type": "execute_result"
    }
   ],
   "source": [
    "np.mean(arr)# average of the array"
   ]
  },
  {
   "cell_type": "code",
   "execution_count": 51,
   "metadata": {},
   "outputs": [
    {
     "data": {
      "text/plain": [
       "np.int64(6564)"
      ]
     },
     "execution_count": 51,
     "metadata": {},
     "output_type": "execute_result"
    }
   ],
   "source": [
    "np.sum(arr3)"
   ]
  },
  {
   "cell_type": "code",
   "execution_count": 52,
   "metadata": {},
   "outputs": [
    {
     "data": {
      "text/plain": [
       "np.int64(37)"
      ]
     },
     "execution_count": 52,
     "metadata": {},
     "output_type": "execute_result"
    }
   ],
   "source": [
    "np.argmin(arr3)# this show the the index of the minimum number\n"
   ]
  },
  {
   "cell_type": "code",
   "execution_count": 53,
   "metadata": {},
   "outputs": [
    {
     "data": {
      "text/plain": [
       "np.int64(0)"
      ]
     },
     "execution_count": 53,
     "metadata": {},
     "output_type": "execute_result"
    }
   ],
   "source": [
    "np.argmax(arr)# this shows the index of the maximum item in array "
   ]
  },
  {
   "cell_type": "code",
   "execution_count": 54,
   "metadata": {},
   "outputs": [
    {
     "data": {
      "text/plain": [
       "array([7, 8, 9])"
      ]
     },
     "execution_count": 54,
     "metadata": {},
     "output_type": "execute_result"
    }
   ],
   "source": [
    "arr.sort()\n",
    "arr"
   ]
  },
  {
   "cell_type": "code",
   "execution_count": 55,
   "metadata": {},
   "outputs": [
    {
     "data": {
      "text/plain": [
       "array([9, 8, 7])"
      ]
     },
     "execution_count": 55,
     "metadata": {},
     "output_type": "execute_result"
    }
   ],
   "source": [
    "arr[::-1]#descending order"
   ]
  },
  {
   "cell_type": "markdown",
   "metadata": {},
   "source": [
    "# try with 4D  and 5-D array homework"
   ]
  },
  {
   "cell_type": "code",
   "execution_count": 56,
   "metadata": {},
   "outputs": [
    {
     "name": "stdout",
     "output_type": "stream",
     "text": [
      "[[[[7 8 4 4 5]\n",
      "   [2 6 2 5 8]\n",
      "   [6 3 3 4 8]\n",
      "   [8 5 7 3 8]]\n",
      "\n",
      "  [[9 9 3 9 8]\n",
      "   [7 8 6 2 8]\n",
      "   [2 1 4 2 3]\n",
      "   [4 9 2 7 9]]\n",
      "\n",
      "  [[2 9 8 2 2]\n",
      "   [7 1 5 9 4]\n",
      "   [7 2 1 4 4]\n",
      "   [9 6 2 3 3]]]\n",
      "\n",
      "\n",
      " [[[3 9 9 6 8]\n",
      "   [1 5 6 5 3]\n",
      "   [2 8 7 8 6]\n",
      "   [2 1 3 1 7]]\n",
      "\n",
      "  [[7 8 3 6 4]\n",
      "   [1 1 2 9 8]\n",
      "   [6 6 9 6 1]\n",
      "   [8 2 8 9 1]]\n",
      "\n",
      "  [[7 6 8 4 7]\n",
      "   [8 8 4 1 6]\n",
      "   [1 1 5 9 8]\n",
      "   [7 8 4 6 3]]]]\n"
     ]
    }
   ],
   "source": [
    "import numpy as np\n",
    "\n",
    "# Create a 4D array with shape (2, 3, 4, 5)\n",
    "# Here, 2 is the number of 3D blocks, each 3D block has shape (4, 5)\n",
    "array4 = np.random.randint(1, 10, (2, 3, 4, 5))\n",
    "\n",
    "print(array4)\n"
   ]
  },
  {
   "cell_type": "code",
   "execution_count": 57,
   "metadata": {},
   "outputs": [
    {
     "data": {
      "text/plain": [
       "array([8], dtype=int32)"
      ]
     },
     "execution_count": 57,
     "metadata": {},
     "output_type": "execute_result"
    }
   ],
   "source": [
    "array4[1,2,3,1:2]"
   ]
  },
  {
   "cell_type": "markdown",
   "metadata": {},
   "source": []
  }
 ],
 "metadata": {
  "kernelspec": {
   "display_name": "Python 3",
   "language": "python",
   "name": "python3"
  },
  "language_info": {
   "codemirror_mode": {
    "name": "ipython",
    "version": 3
   },
   "file_extension": ".py",
   "mimetype": "text/x-python",
   "name": "python",
   "nbconvert_exporter": "python",
   "pygments_lexer": "ipython3",
   "version": "3.12.4"
  }
 },
 "nbformat": 4,
 "nbformat_minor": 2
}
