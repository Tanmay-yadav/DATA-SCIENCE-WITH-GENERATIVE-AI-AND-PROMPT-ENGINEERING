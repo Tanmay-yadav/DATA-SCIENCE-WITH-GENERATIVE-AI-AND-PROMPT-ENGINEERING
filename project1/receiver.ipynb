{
 "cells": [
  {
   "cell_type": "code",
   "execution_count": null,
   "metadata": {},
   "outputs": [],
   "source": [
    "import socket\n"
   ]
  },
  {
   "cell_type": "markdown",
   "metadata": {},
   "source": [
    "Certainly! Here's an explanation of the `import socket` statement in Python using bullet points:\n",
    "\n",
    "- **Module Import**: \n",
    "  - `import socket` imports the built-in `socket` module in Python.\n",
    "  - The `socket` module provides access to low-level networking interfaces for communication over sockets.\n",
    "\n",
    "- **Socket Programming**:\n",
    "  - Enables creation, manipulation, and management of network sockets, facilitating communication between processes.\n",
    "  - Supports various protocols such as TCP (Transmission Control Protocol) and UDP (User Datagram Protocol).\n",
    "\n",
    "- **Common Functions**:\n",
    "  - Offers functions like `socket()` to create sockets, `bind()` to bind a socket to an address, `listen()` to listen for incoming connections (TCP), and `sendto()` and `recvfrom()` for UDP communication.\n",
    "\n",
    "- **Cross-Platform Compatibility**:\n",
    "  - Compatible across different operating systems (Windows, Linux, macOS) due to its standard implementation in Python.\n",
    "\n",
    "- **Network Communication**:\n",
    "  - Facilitates sending and receiving data between applications or devices over networks using sockets.\n",
    "  - Essential for client-server applications, network protocols implementation, and real-time data exchange.\n",
    "\n",
    "- **Security Considerations**:\n",
    "  - Allows secure communication over encrypted connections (e.g., TLS/SSL) using appropriate configurations and protocols.\n",
    "\n",
    "Importing `socket` provides powerful networking capabilities in Python, enabling developers to build robust network applications and services efficiently."
   ]
  },
  {
   "cell_type": "code",
   "execution_count": null,
   "metadata": {},
   "outputs": [],
   "source": [
    "s = socket.socket(socket.AF_INET,socket.SOCK_DGRAM)\n"
   ]
  },
  {
   "cell_type": "markdown",
   "metadata": {},
   "source": [
    "- Socket Creation:\n",
    "\n",
    "The code creates a new socket object s using Python's socket module.\n",
    "\n",
    "- Address Family (AF_INET):\n",
    "\n",
    "Specifies that the socket will use IPv4 addresses for communication.\n",
    "AF_INET is a constant defined in the socket module indicating IPv4 family.\n",
    "\n",
    "- Socket Type (SOCK_DGRAM):\n",
    "\n",
    "Specifies the type of socket as a Datagram socket.\n",
    "SOCK_DGRAM is used for UDP (User Datagram Protocol), a connectionless protocol where data packets can be sent without establishing a connection.\n",
    "\n",
    "- Usage Context:\n",
    "\n",
    "This line initializes a UDP socket (SOCK_DGRAM) that can send and receive datagrams over IPv4 (AF_INET).\n",
    "\n",
    "- No Binding Yet:\n",
    "\n",
    "The socket created here is not yet bound to any specific address or port. Binding is typically done later using the bind() method before sending or receiving data.\n",
    "\n",
    "- Flexible for Network Communication:\n",
    "\n",
    "This socket can be used for various network communication tasks where UDP is suitable, such as real-time applications or scenarios where connectionless, unreliable messaging is acceptable.\n",
    "This code snippet sets up a basic UDP socket (SOCK_DGRAM) for use with IPv4 (AF_INET), providing the foundation for sending and receiving datagrams over a network.\n",
    "\n",
    "\n",
    "\n",
    "\n",
    "\n",
    "\n"
   ]
  },
  {
   "cell_type": "code",
   "execution_count": null,
   "metadata": {},
   "outputs": [],
   "source": [
    "\n",
    "ip_address =\"192.168.239.224\"\n",
    "# ip_address=\"127.0.0.1\" # this is for someone who is present anywhere\n",
    "port_no =2525 #this is for upflaire for multiple person\n",
    "complete_address=(ip_address,port_no)\n"
   ]
  },
  {
   "cell_type": "code",
   "execution_count": null,
   "metadata": {},
   "outputs": [],
   "source": [
    "\n",
    "\n",
    "s.bind(complete_address)\n"
   ]
  },
  {
   "cell_type": "markdown",
   "metadata": {},
   "source": [
    "* File Handling: Uses with open(...) for file handling, ensuring the file is opened and closed properly without needing explicit file.close() calls.\n",
    "\n",
    "* Dynamic Filename: Constructs the filename using sender_address + \".txt\", allowing flexibility based on the value of sender_address.\n",
    "\n",
    "* Append Mode: Opens the file in 'a+' mode, allowing data to be appended to the end of the file. If the file doesn't exist, it is created.\n",
    "\n",
    "* Writing Data: Writes decrypted_message to the file followed by a newline ('\\n'), facilitating organized storage of multiple messages.\n",
    "\n",
    "* Automatic Closure: Ensures automatic closure of the file after the indented block, regardless of whether the operations succeed or an exception occurs.\n",
    "\n",
    "* Error Handling: Simplifies error handling related to file operations by integrating it into the with statement's context management.\n",
    "\n",
    "This approach enhances readability, promotes efficient file management, and accommodates variable file naming based on sender_address dynamically."
   ]
  },
  {
   "cell_type": "code",
   "execution_count": null,
   "metadata": {},
   "outputs": [],
   "source": [
    "\n",
    "print(\"hey i am receiving your message\")\n",
    "while True:\n",
    "    message =s.recvfrom(100)\n",
    "    print(message)\n",
    "    sender_address=message[1][0]\n",
    "    received_message=message[0]\n",
    "    decrypted_message =received_message.decode(\"ascii\")\n",
    "    print(decrypted_message)\n",
    "    with open(sender_address+\".txt\",'a+')as file:\n",
    "        file.write(decrypted_message +'\\n')"
   ]
  },
  {
   "cell_type": "markdown",
   "metadata": {},
   "source": [
    "```python \n",
    "with open(sender_address+\".txt\",'a+')as file:\n",
    "        file.write(decrypted_message +'\\n')\n",
    "        ```\n",
    "        he code dynamically opens or creates a text file named after sender_address, appending ('a+' mode) to allow writing at the file's end. It uses with open(...) for safe file handling, automatically ensuring proper closure after operations. decrypted_message is appended to the file with a newline. This method promotes clean, efficient file operations in Python, avoiding manual open and close operations and facilitating dynamic file naming based on sender_address"
   ]
  }
 ],
 "metadata": {
  "language_info": {
   "name": "python"
  }
 },
 "nbformat": 4,
 "nbformat_minor": 2
}
