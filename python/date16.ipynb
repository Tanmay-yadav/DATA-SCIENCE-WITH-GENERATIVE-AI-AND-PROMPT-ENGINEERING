{
 "cells": [
  {
   "cell_type": "code",
   "execution_count": null,
   "metadata": {},
   "outputs": [],
   "source": [
    "import numpy as np\n",
    "\n",
    "print(type(np))"
   ]
  },
  {
   "cell_type": "markdown",
   "metadata": {},
   "source": [
    "The line import numpy as np is a common statement used in Python to import the NumPy library and assign it the alias np. Here’s a breakdown of what this line does:\n",
    "\n",
    "Import Statement: import numpy: This instructs Python to load the NumPy library into your current environment. NumPy is a powerful numerical computing library in Python, widely used for array computations and mathematical operations.\n",
    "\n",
    "Alias Assignment: as np: This part of the statement assigns an alias np to NumPy. This alias allows you to refer to NumPy functions and objects using np instead of typing out numpy each time, which can make your code more concise and readable.\n",
    "\n",
    "Why Use NumPy?\n",
    "Efficient Arrays: NumPy provides an array object that is more efficient than Python's built-in list for numerical operations.\n",
    "Mathematical Functions: NumPy includes a wide range of mathematical functions for operations on these arrays.\n",
    "Linear Algebra Operations: NumPy supports linear algebra operations, Fourier transforms, and random number generation.\n",
    "\n",
    "NumPy (Numerical Python) is a fundamental library in Python for numerical computing. It provides support for large, multi-dimensional arrays and matrices, along with a collection of mathematical functions to operate on these arrays efficiently. Here are several reasons why NumPy is widely used and essential in the Python ecosystem:\n",
    "\n",
    "### 1. **Efficient Array Operations:**\n",
    "   - NumPy arrays are more efficient than Python lists for numerical operations. They are implemented in C and allow for vectorized operations, where operations are applied to whole arrays instead of individual elements. This reduces the need for explicit loops in Python, making code execution faster and more concise.\n",
    "\n",
    "### 2. **Multi-dimensional Data Representation:**\n",
    "   - NumPy arrays can represent multi-dimensional data (e.g., matrices or tensors) with ease. This makes NumPy suitable for handling datasets used in fields such as machine learning, scientific computing, and data analysis.\n",
    "\n",
    "### 3. **Broad Range of Mathematical Functions:**\n",
    "   - NumPy provides a rich collection of mathematical functions that operate on arrays. These include basic arithmetic operations, trigonometric functions, statistical functions, linear algebra routines, Fourier transforms, and more. These functions are optimized for performance and provide consistent results across different platforms.\n",
    "\n",
    "### 4. **Integration with Other Libraries:**\n",
    "   - NumPy is a foundational library in the Python scientific computing stack. It integrates well with other libraries like SciPy (Scientific Python) for advanced mathematical functions, Matplotlib for plotting, Pandas for data manipulation and analysis, and scikit-learn for machine learning tasks.\n",
    "\n",
    "### 5. **Memory Efficiency:**\n",
    "   - NumPy arrays are memory efficient compared to Python lists. They allow for better memory management and enable faster access and manipulation of data. This is crucial when working with large datasets that cannot fit into the computer's main memory.\n",
    "\n",
    "### 6. **Support for Broadcasting:**\n",
    "   - Broadcasting is a powerful feature in NumPy that allows operations to be performed on arrays of different shapes. NumPy automatically broadcasts these operations, making code more readable and reducing the need for explicit looping constructs.\n",
    "\n",
    "### 7. **Platform for Scientific Computing:**\n",
    "   - NumPy forms the basis for many scientific and numerical computing libraries in Python. Its consistent interface and robust functionality make it a preferred choice for researchers, engineers, and data scientists working on computational and data-intensive applications.\n",
    "\n",
    "### Example Usage:\n",
    "```python\n",
    "import numpy as np\n",
    "\n",
    "# Create a NumPy array\n",
    "arr = np.array([1, 2, 3, 4, 5])\n",
    "\n",
    "# Perform operations\n",
    "mean_value = np.mean(arr)\n",
    "print(\"Mean:\", mean_value)\n",
    "```\n",
    "\n",
    "In this example:\n",
    "- `np.array([1, 2, 3, 4, 5])` creates a NumPy array.\n",
    "- `np.mean(arr)` calculates the mean of the array `arr` using a NumPy function.\n",
    "\n",
    "### Conclusion:\n",
    "NumPy's versatility, performance, and extensive mathematical functions make it indispensable for numerical computations and data manipulation in Python. Its efficient handling of arrays, integration with other libraries, and support for advanced operations ensure that it remains a cornerstone of scientific computing and data analysis workflows in Python.\n",
    "\n",
    "```python\n",
    "import numpy as np\n",
    "\n",
    "# Create a NumPy array\n",
    "arr = np.array([1, 2, 3, 4, 5])\n",
    "\n",
    "# Perform a mathematical operation (example: square each element)\n",
    "squared_arr = np.square(arr)\n",
    "\n",
    "print(squared_arr)\n",
    "\n",
    "\n",
    "\n",
    "```\n",
    "In this example:\n",
    "\n",
    "np.array([1, 2, 3, 4, 5]) creates a NumPy array.\n",
    "np.square(arr) computes the square of each element in the array using NumPy's vectorized operations."
   ]
  },
  {
   "cell_type": "code",
   "execution_count": null,
   "metadata": {},
   "outputs": [],
   "source": [
    "arr= np.array([25,41,63,66,85,74])\n",
    "arr"
   ]
  },
  {
   "cell_type": "code",
   "execution_count": null,
   "metadata": {},
   "outputs": [],
   "source": [
    "type(arr)\n",
    "#ndarray ==>n dimensiional array"
   ]
  },
  {
   "cell_type": "code",
   "execution_count": null,
   "metadata": {},
   "outputs": [],
   "source": [
    "arr.size #no.of item"
   ]
  },
  {
   "cell_type": "code",
   "execution_count": null,
   "metadata": {},
   "outputs": [],
   "source": [
    "len(arr)"
   ]
  },
  {
   "cell_type": "code",
   "execution_count": null,
   "metadata": {},
   "outputs": [],
   "source": [
    "arr.ndim # to check the dimension of array"
   ]
  },
  {
   "cell_type": "code",
   "execution_count": null,
   "metadata": {},
   "outputs": [],
   "source": [
    "arr= np.array([25,41,63,66,85,74,25.01,\"upflairs\",True])\n",
    "arr"
   ]
  },
  {
   "cell_type": "code",
   "execution_count": null,
   "metadata": {},
   "outputs": [],
   "source": [
    "arr.dtype\n"
   ]
  },
  {
   "cell_type": "code",
   "execution_count": null,
   "metadata": {},
   "outputs": [],
   "source": [
    "np.__version__\n"
   ]
  },
  {
   "cell_type": "markdown",
   "metadata": {},
   "source": [
    "The expression np.__version__ is used to retrieve the version number of the NumPy library that is currently imported into your Python environment. Here’s what it does:\n",
    "\n",
    "np: This refers to the alias np that you assigned to the NumPy library when you imported it using import numpy as np.\n",
    ".__version__: This is a special attribute of the NumPy module that holds the version information of the library."
   ]
  },
  {
   "cell_type": "code",
   "execution_count": null,
   "metadata": {},
   "outputs": [],
   "source": [
    "arr= np.array([25,41,63,66,85,74])\n",
    "arr"
   ]
  },
  {
   "cell_type": "code",
   "execution_count": null,
   "metadata": {},
   "outputs": [],
   "source": [
    "arr[-1]=500\n",
    "arr[2:4]\n",
    "arr[::]# start=0,stoping =end,jump==1"
   ]
  },
  {
   "cell_type": "code",
   "execution_count": null,
   "metadata": {},
   "outputs": [],
   "source": [
    "arr*2"
   ]
  },
  {
   "cell_type": "code",
   "execution_count": null,
   "metadata": {},
   "outputs": [],
   "source": [
    "arr[-2]\n"
   ]
  },
  {
   "cell_type": "code",
   "execution_count": null,
   "metadata": {},
   "outputs": [],
   "source": [
    "arr[::]# start=0,stoping =end,jump==1\n"
   ]
  },
  {
   "cell_type": "markdown",
   "metadata": {},
   "source": [
    "# 2D  ARRAYs\n"
   ]
  },
  {
   "cell_type": "code",
   "execution_count": null,
   "metadata": {},
   "outputs": [],
   "source": [
    "ls=[[1,2,3],\n",
    "    [4,5,6],\n",
    "    [7,8,9]]"
   ]
  },
  {
   "cell_type": "code",
   "execution_count": null,
   "metadata": {},
   "outputs": [],
   "source": [
    "arr2 =np.array(ls)\n",
    "print(arr2)"
   ]
  },
  {
   "cell_type": "code",
   "execution_count": null,
   "metadata": {},
   "outputs": [],
   "source": [
    "type(ls)"
   ]
  },
  {
   "cell_type": "code",
   "execution_count": null,
   "metadata": {},
   "outputs": [],
   "source": [
    "arr2.ndim"
   ]
  },
  {
   "cell_type": "code",
   "execution_count": null,
   "metadata": {},
   "outputs": [],
   "source": [
    "# arr2[0]# for single row only\n",
    "arr2[0:2]#start to end for more than one row"
   ]
  },
  {
   "cell_type": "code",
   "execution_count": null,
   "metadata": {},
   "outputs": [],
   "source": [
    "\n",
    "# arr2[row,column]=>[row start:stop,col start:end]\n",
    "arr2[1,1:]"
   ]
  },
  {
   "cell_type": "code",
   "execution_count": null,
   "metadata": {},
   "outputs": [],
   "source": [
    "# arr2[1:3,1:]\n",
    "arr2[-2:,-2:]"
   ]
  },
  {
   "cell_type": "code",
   "execution_count": null,
   "metadata": {},
   "outputs": [],
   "source": [
    "arr2[-1:-1]=90"
   ]
  },
  {
   "cell_type": "markdown",
   "metadata": {},
   "source": [
    "### filter all those items that are less than equals to 100\n",
    "### comments --> how many item in your arrays"
   ]
  },
  {
   "cell_type": "code",
   "execution_count": null,
   "metadata": {},
   "outputs": [],
   "source": [
    "arr= np.random.randint(1,200,500)\n",
    "arr[arr<=100]"
   ]
  },
  {
   "cell_type": "code",
   "execution_count": null,
   "metadata": {},
   "outputs": [],
   "source": [
    "# for item in arr:\n",
    "#     count=0\n",
    "#     if item<=100:\n",
    "#         count+=1\n",
    "# print(count)        "
   ]
  },
  {
   "cell_type": "code",
   "execution_count": null,
   "metadata": {},
   "outputs": [],
   "source": [
    "len(arr[arr<=100])"
   ]
  },
  {
   "cell_type": "code",
   "execution_count": null,
   "metadata": {},
   "outputs": [],
   "source": [
    "# arr.shape(3,3)"
   ]
  },
  {
   "cell_type": "code",
   "execution_count": null,
   "metadata": {},
   "outputs": [],
   "source": [
    "arr2=np.random.randint(1,200,(10,5))#range 1 to 200 \n",
    "# and the rows =10 and columns =5\n",
    "arr2"
   ]
  },
  {
   "cell_type": "code",
   "execution_count": null,
   "metadata": {},
   "outputs": [],
   "source": [
    "arr=np.zeros((10,5))\n",
    "arr"
   ]
  },
  {
   "cell_type": "code",
   "execution_count": null,
   "metadata": {},
   "outputs": [],
   "source": [
    "arr.dtype"
   ]
  },
  {
   "cell_type": "code",
   "execution_count": null,
   "metadata": {},
   "outputs": [],
   "source": [
    "arr =np.ones((10,5))\n",
    "arr"
   ]
  },
  {
   "cell_type": "code",
   "execution_count": null,
   "metadata": {},
   "outputs": [],
   "source": [
    "ls=[0,1,2,3,4,5,6,7,8,9]\n",
    "ls"
   ]
  },
  {
   "cell_type": "code",
   "execution_count": null,
   "metadata": {},
   "outputs": [],
   "source": [
    "ls=list(range(10))\n",
    "ls"
   ]
  },
  {
   "cell_type": "code",
   "execution_count": null,
   "metadata": {},
   "outputs": [],
   "source": [
    "arr=np.arange(20)\n",
    "arr# always create single dimension array in sorted manner from 0 to 20/range we have given"
   ]
  },
  {
   "cell_type": "code",
   "execution_count": null,
   "metadata": {},
   "outputs": [],
   "source": [
    "arr=np.arange(60)\n",
    "arr"
   ]
  },
  {
   "cell_type": "code",
   "execution_count": null,
   "metadata": {},
   "outputs": [],
   "source": [
    "arr.reshape(10,6)#10(rows)*6(columns)==60\n",
    "# arr.reshape(10,7)#this will show error because 10*7==70 which is invalis=d as it exceed the range of it"
   ]
  },
  {
   "cell_type": "code",
   "execution_count": null,
   "metadata": {},
   "outputs": [],
   "source": [
    "arr.reshape(30,2)"
   ]
  },
  {
   "cell_type": "markdown",
   "metadata": {},
   "source": [
    "\n",
    "The reshape method in NumPy is used to change the shape (dimensions) of an array without changing its data. Here’s a detailed explanation of how arr.reshape works and its usage:\n",
    "\n",
    "Syntax and Parameters\n",
    "The reshape method in NumPy typically takes one or more arguments:\n",
    "\n",
    "```python\n",
    "\n",
    "arr.reshape(shape, order='C')\n",
    "```\n",
    "arr: This is the NumPy array that you want to reshape.\n",
    "shape: This parameter specifies the new shape that you want the array to have. It can be specified in several formats:\n",
    "A single integer, which means the resulting array will have that many dimensions.\n",
    "A tuple of integers, where each integer specifies the size of the corresponding dimension in the reshaped array. The total number of elements in the reshaped array must match the original array.\n",
    "order: This is an optional parameter that specifies the order of the elements in the reshaped array. It can be 'C' (row-major, C-style) or 'F' (column-major, Fortran-style).\n",
    "How reshape Works\n",
    "Shape Compatibility: The total number of elements in the original array (arr) must be equal to the total number of elements in the reshaped array specified by shape. NumPy will raise an error if these numbers do not match.\n",
    "\n",
    "Data View: reshape does not copy the data; it returns a new view of the original array with the specified shape. This means that modifying the reshaped array will also modify the original array."
   ]
  },
  {
   "cell_type": "markdown",
   "metadata": {},
   "source": [
    "# CREATION OF 3D ARRAY\n"
   ]
  },
  {
   "cell_type": "code",
   "execution_count": null,
   "metadata": {},
   "outputs": [],
   "source": [
    "arr1=[1,2,3] # 1d array\n",
    "arr2=[[1,2,3],[1,2,3],[1,2,3]] #2d array\n",
    "arr3 = [\n",
    "    [[1, 2, 3], [1, 2, 3], [1, 2, 3]],\n",
    "    [[1, 2, 3], [1, 2, 3], [1, 2, 3]]\n",
    "]#3d array"
   ]
  },
  {
   "cell_type": "code",
   "execution_count": 24,
   "metadata": {},
   "outputs": [],
   "source": [
    "import numpy as np"
   ]
  },
  {
   "cell_type": "code",
   "execution_count": 25,
   "metadata": {},
   "outputs": [
    {
     "data": {
      "text/plain": [
       "array([[[181, 199, 168],\n",
       "        [139, 140, 126],\n",
       "        [141, 135,  52],\n",
       "        [ 17, 106,  45],\n",
       "        [ 56, 194,  81]],\n",
       "\n",
       "       [[ 82,  22, 176],\n",
       "        [136, 144,  18],\n",
       "        [131,  99, 173],\n",
       "        [132,  26,  61],\n",
       "        [169,   5, 136]],\n",
       "\n",
       "       [[130,  66, 142],\n",
       "        [ 81,  23,  47],\n",
       "        [ 44,  33, 189],\n",
       "        [128, 110, 154],\n",
       "        [ 83, 163,  28]]], dtype=int32)"
      ]
     },
     "execution_count": 25,
     "metadata": {},
     "output_type": "execute_result"
    }
   ],
   "source": [
    "arr3=np.random.randint(1,200,(3,5,3))\n",
    "arr3"
   ]
  },
  {
   "cell_type": "code",
   "execution_count": null,
   "metadata": {},
   "outputs": [],
   "source": [
    "arr3.ndim"
   ]
  },
  {
   "cell_type": "code",
   "execution_count": null,
   "metadata": {},
   "outputs": [],
   "source": [
    "arr3.dtype"
   ]
  },
  {
   "cell_type": "code",
   "execution_count": null,
   "metadata": {},
   "outputs": [],
   "source": [
    "arr3.shape"
   ]
  },
  {
   "cell_type": "markdown",
   "metadata": {},
   "source": [
    "### how to access the value from the array \n",
    "*arr[table,row,column]<- indexing method"
   ]
  },
  {
   "cell_type": "code",
   "execution_count": null,
   "metadata": {},
   "outputs": [],
   "source": [
    "arr3[1,4,0:]"
   ]
  },
  {
   "cell_type": "code",
   "execution_count": null,
   "metadata": {},
   "outputs": [],
   "source": [
    "arr3[2,0:2,1:3]"
   ]
  },
  {
   "cell_type": "code",
   "execution_count": null,
   "metadata": {},
   "outputs": [],
   "source": [
    "# arr3[0,0:1,0:]\n",
    "arr3[-2,-5:-4,-5:]"
   ]
  },
  {
   "cell_type": "code",
   "execution_count": null,
   "metadata": {},
   "outputs": [],
   "source": [
    "arr3[-1,-5:-4,-5:]"
   ]
  },
  {
   "cell_type": "markdown",
   "metadata": {},
   "source": [
    "# OTHER FUNCTIONS IN NUMPY AND THEIR FUNCTIONALITY"
   ]
  },
  {
   "cell_type": "code",
   "execution_count": 26,
   "metadata": {},
   "outputs": [
    {
     "data": {
      "text/plain": [
       "array([9, 7, 8])"
      ]
     },
     "execution_count": 26,
     "metadata": {},
     "output_type": "execute_result"
    }
   ],
   "source": [
    "arr=np.array([9,7,8])\n",
    "arr"
   ]
  },
  {
   "cell_type": "code",
   "execution_count": 27,
   "metadata": {},
   "outputs": [
    {
     "data": {
      "text/plain": [
       "np.int64(9)"
      ]
     },
     "execution_count": 27,
     "metadata": {},
     "output_type": "execute_result"
    }
   ],
   "source": [
    "max(arr)"
   ]
  },
  {
   "cell_type": "code",
   "execution_count": 28,
   "metadata": {},
   "outputs": [
    {
     "data": {
      "text/plain": [
       "np.int64(7)"
      ]
     },
     "execution_count": 28,
     "metadata": {},
     "output_type": "execute_result"
    }
   ],
   "source": [
    "min(arr)"
   ]
  },
  {
   "cell_type": "code",
   "execution_count": 29,
   "metadata": {},
   "outputs": [
    {
     "data": {
      "text/plain": [
       "np.float64(8.0)"
      ]
     },
     "execution_count": 29,
     "metadata": {},
     "output_type": "execute_result"
    }
   ],
   "source": [
    "np.mean(arr)# average of the array"
   ]
  },
  {
   "cell_type": "code",
   "execution_count": 30,
   "metadata": {},
   "outputs": [
    {
     "data": {
      "text/plain": [
       "np.int64(24)"
      ]
     },
     "execution_count": 30,
     "metadata": {},
     "output_type": "execute_result"
    }
   ],
   "source": [
    "np.sum(arr)"
   ]
  },
  {
   "cell_type": "code",
   "execution_count": 31,
   "metadata": {},
   "outputs": [
    {
     "data": {
      "text/plain": [
       "np.int64(1)"
      ]
     },
     "execution_count": 31,
     "metadata": {},
     "output_type": "execute_result"
    }
   ],
   "source": [
    "np.argmin(arr)# this show the the index of the minimum number\n"
   ]
  },
  {
   "cell_type": "code",
   "execution_count": 34,
   "metadata": {},
   "outputs": [
    {
     "data": {
      "text/plain": [
       "np.int64(0)"
      ]
     },
     "execution_count": 34,
     "metadata": {},
     "output_type": "execute_result"
    }
   ],
   "source": [
    "np.argmax(arr)# this shows the index of the maximum item in array "
   ]
  },
  {
   "cell_type": "code",
   "execution_count": 37,
   "metadata": {},
   "outputs": [
    {
     "data": {
      "text/plain": [
       "array([7, 8, 9])"
      ]
     },
     "execution_count": 37,
     "metadata": {},
     "output_type": "execute_result"
    }
   ],
   "source": [
    "arr.sort()\n",
    "arr"
   ]
  },
  {
   "cell_type": "code",
   "execution_count": 38,
   "metadata": {},
   "outputs": [
    {
     "data": {
      "text/plain": [
       "array([9, 8, 7])"
      ]
     },
     "execution_count": 38,
     "metadata": {},
     "output_type": "execute_result"
    }
   ],
   "source": [
    "arr[::-1]#descending order"
   ]
  },
  {
   "cell_type": "markdown",
   "metadata": {},
   "source": [
    "# try with 4D  and 5-D array homework"
   ]
  },
  {
   "cell_type": "code",
   "execution_count": null,
   "metadata": {},
   "outputs": [],
   "source": []
  },
  {
   "cell_type": "code",
   "execution_count": null,
   "metadata": {},
   "outputs": [],
   "source": []
  }
 ],
 "metadata": {
  "kernelspec": {
   "display_name": "Python 3",
   "language": "python",
   "name": "python3"
  },
  "language_info": {
   "codemirror_mode": {
    "name": "ipython",
    "version": 3
   },
   "file_extension": ".py",
   "mimetype": "text/x-python",
   "name": "python",
   "nbconvert_exporter": "python",
   "pygments_lexer": "ipython3",
   "version": "3.12.4"
  }
 },
 "nbformat": 4,
 "nbformat_minor": 2
}
