{
 "cells": [
  {
   "cell_type": "markdown",
   "metadata": {},
   "source": [
    "#**PROJECT 1 cli chat box**\n"
   ]
  },
  {
   "cell_type": "markdown",
   "metadata": {},
   "source": [
    "```PYTHON\n",
    "#SENDERS CODE\n",
    "import socket\n",
    "s = socket.socket(socket.AF_INET,socket.SOCK_DGRAM)\n",
    "\n",
    "target_ip=\"192.168.239.224\"\n",
    "port_no=2525\n",
    "target_address=(target_ip,port_no)\n",
    "\n",
    "\n",
    "\n",
    "condition =True\n",
    "while condition:\n",
    "    message=input(\"write your message:\")\n",
    "    # for i in range(10):\n",
    "        # message= \"hello\"\n",
    "        # print(message)\n",
    "    encrypt_message=message.encode(\"ascii\")\n",
    "    s.sendto(encrypt_message,target_address)\n",
    "\n",
    "#RECEIVER CODE\n",
    "import socket\n",
    "s = socket.socket(socket.AF_INET,socket.SOCK_DGRAM)\n",
    "ip_address =\"192.168.239.249\"\n",
    "# ip_address=\"127.0.0.1\" # this is for someone who is present anywhere\n",
    "port_no =2525 #this is for upflaire for multiple person\n",
    "complete_address=(ip_address,port_no)\n",
    "s.bind(complete_address)\n",
    "\n",
    "print(\"hey i am receiving your message\")\n",
    "while True:\n",
    "    message =s.recvfrom(100)\n",
    "    print(message)\n",
    "    sender_address=message[1][0]\n",
    "    received_message=message[0]\n",
    "    decrypted_message =received_message.decode(\"ascii\")\n",
    "    print(decrypted_message)\n",
    "    with open(sender_address+\".txt\",'a+')as file:\n",
    "        file.write(decrypted_message +'\\n')\n",
    "\n",
    "\n",
    "\n",
    "\n",
    "\n",
    "\n",
    "\n",
    "\n",
    "\n",
    "\n",
    "\n",
    "```"
   ]
  },
  {
   "cell_type": "code",
   "execution_count": null,
   "metadata": {},
   "outputs": [],
   "source": []
  }
 ],
 "metadata": {
  "language_info": {
   "name": "python"
  }
 },
 "nbformat": 4,
 "nbformat_minor": 2
}
