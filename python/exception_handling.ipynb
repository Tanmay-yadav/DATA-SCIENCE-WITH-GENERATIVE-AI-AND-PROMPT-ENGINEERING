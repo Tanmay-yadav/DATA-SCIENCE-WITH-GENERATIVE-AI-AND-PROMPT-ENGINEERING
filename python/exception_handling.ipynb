{
 "cells": [
  {
   "cell_type": "code",
   "execution_count": null,
   "metadata": {},
   "outputs": [],
   "source": [
    "print(\"hello world\")"
   ]
  },
  {
   "cell_type": "markdown",
   "metadata": {},
   "source": [
    "Exception Handling in Programming\n",
    "\n",
    "Exception Handling is a mechanism used in programming to handle runtime errors, allowing a program to continue executing even after an error has occurred. This ensures that the program can handle unexpected situations gracefully, without crashing or producing incorrect results."
   ]
  },
  {
   "cell_type": "code",
   "execution_count": null,
   "metadata": {},
   "outputs": [],
   "source": [
    "print(\"wlcome to myworld\")"
   ]
  },
  {
   "cell_type": "code",
   "execution_count": null,
   "metadata": {},
   "outputs": [],
   "source": [
    "!python --version #this is window command"
   ]
  },
  {
   "cell_type": "markdown",
   "metadata": {},
   "source": [
    "EXCEPTION HANDLING"
   ]
  },
  {
   "cell_type": "code",
   "execution_count": null,
   "metadata": {},
   "outputs": [],
   "source": [
    "name=input(\"enter your name:\")\n",
    "print(name)\n",
    "age = int(input(\"enter your age\"))\n",
    "\n",
    "print(\"my name is :\",name,\"and i am\",age,\" years old\")\n",
    "print(\"important line 1\")\n",
    "print(\"important line 2\")\n",
    "print(\"important line 3\")\n",
    "print(\"important line 4\")\n",
    "print(\"important line 5\")\n",
    "print(\"important line 6\")\n",
    "# shortcut for executing cell is ctrl+enter"
   ]
  },
  {
   "cell_type": "markdown",
   "metadata": {},
   "source": [
    "error can be seen at : compile time or  running time "
   ]
  },
  {
   "cell_type": "markdown",
   "metadata": {},
   "source": [
    "exception handling\n",
    "try ,except,else,finally"
   ]
  },
  {
   "cell_type": "markdown",
   "metadata": {},
   "source": [
    "\n",
    "try Block:\n",
    "\n",
    "The try block contains the code that might raise an exception. This is the code you want to attempt to execute.\n",
    "\n",
    "except Block:\n",
    "\n",
    "The except block contains the code that runs if an exception occurs in the try block.\n",
    "You can specify the type of exception you want to handle, or use a general except to catch all exceptions.\n",
    "\n",
    "else Block:\n",
    "\n",
    "The else block contains the code that runs if no exception occurs in the try block.\n",
    "This block is optional.\n",
    "\n",
    "finally Block:\n",
    "\n",
    "The finally block contains the code that runs regardless of whether an exception occurs or not.\n",
    "This is typically used for cleanup actions, like closing files or releasing resources."
   ]
  },
  {
   "cell_type": "code",
   "execution_count": null,
   "metadata": {},
   "outputs": [],
   "source": [
    "try:\n",
    "    name=input(\"enter your name:\")\n",
    "    print(name)\n",
    "    age = int(input(\"enter your age\"))\n",
    "\n",
    "    print(\"my name is :\",name,\"and i am\",age,\" years old\")\n",
    "\n",
    "except: #yes\n",
    "    print(\"error is occured\")\n",
    "\n",
    "\n",
    "else:# no\n",
    "    print(\"error is not occured\")\n",
    "\n",
    "finally:# always \n",
    "    print(\" i am always\")\n",
    "\n",
    "print(\"important line 1\")\n",
    "print(\"important line 2\")\n",
    "print(\"important line 3\")\n",
    "print(\"important line 4\")\n",
    "print(\"important line 5\")\n",
    "print(\"important line 6\")\n"
   ]
  },
  {
   "cell_type": "markdown",
   "metadata": {},
   "source": [
    "question/assingment:errors or types of exceptions?"
   ]
  },
  {
   "cell_type": "code",
   "execution_count": null,
   "metadata": {},
   "outputs": [],
   "source": [
    "ls=[1,2,3,4,5]\n",
    "# ls[8]\n",
    "ls"
   ]
  },
  {
   "cell_type": "code",
   "execution_count": null,
   "metadata": {},
   "outputs": [],
   "source": [
    "ls #here singular name can be print without print()function\n",
    "# lst  this will show error"
   ]
  },
  {
   "cell_type": "code",
   "execution_count": null,
   "metadata": {},
   "outputs": [],
   "source": [
    "num1=10\n",
    "num2=0\n",
    "num1/num2"
   ]
  },
  {
   "cell_type": "code",
   "execution_count": null,
   "metadata": {},
   "outputs": [],
   "source": [
    "import manager\n",
    "import managerrr # >>>>this will show error becuase no managerrr file is present\n"
   ]
  },
  {
   "cell_type": "markdown",
   "metadata": {},
   "source": [
    "key error?\n"
   ]
  },
  {
   "cell_type": "code",
   "execution_count": null,
   "metadata": {},
   "outputs": [],
   "source": [
    "dt ={\"a\",\"v\",\"g\"}\n",
    "dt=\"a\""
   ]
  },
  {
   "cell_type": "markdown",
   "metadata": {},
   "source": [
    "TYPES OF EXCEPTIONS->\n"
   ]
  },
  {
   "cell_type": "markdown",
   "metadata": {},
   "source": [
    "1.Attribute Error->\n",
    "An AttributeError is raised when an attribute reference or assignment fails. This typically occurs when you try to access or assign an attribute that does not exist for a particular object.\n",
    "ex:\n",
    "Accessing a Non-Existent Attribute:\n",
    "\n",
    "Trying to access an attribute that isn't defined in the object.\n"
   ]
  },
  {
   "cell_type": "code",
   "execution_count": null,
   "metadata": {},
   "outputs": [],
   "source": [
    "class Car:\n",
    "    def __init__(self, make, model):\n",
    "        self.make = make\n",
    "        self.model = model\n",
    "\n",
    "my_car = Car(\"Toyota\", \"Camry\")\n",
    "print(my_car.color)  # AttributeError: 'Car' object has no attribute 'color'\n"
   ]
  },
  {
   "cell_type": "markdown",
   "metadata": {},
   "source": []
  },
  {
   "cell_type": "markdown",
   "metadata": {},
   "source": [
    "2.Index Error->\n",
    "An IndexError is raised when you try to access an index that is out of the range of a sequence, such as a list, tuple, or string. This typically happens when the index is either negative or exceeds the bounds of the sequence.\n",
    "ex:\n",
    "Accessing an Index Out of Range:\n",
    "\n",
    "Trying to access an element at an index that is beyond the last element of the sequence.\n"
   ]
  },
  {
   "cell_type": "code",
   "execution_count": null,
   "metadata": {},
   "outputs": [],
   "source": [
    "my_list = [1, 2, 3]\n",
    "print(my_list[3])  # IndexError: list index out of range\n"
   ]
  },
  {
   "cell_type": "markdown",
   "metadata": {},
   "source": [
    "3.Key Error->\n",
    "A KeyError is raised when you try to access a dictionary with a key that doesn't exist in the dictionary. This typically occurs when the specified key is not found in the dictionary.\n",
    "ex:\n",
    "Accessing a Non-Existent Key:\n",
    "\n",
    "Trying to retrieve a value using a key that is not present in the dictionary.\n",
    "\n"
   ]
  },
  {
   "cell_type": "code",
   "execution_count": null,
   "metadata": {},
   "outputs": [],
   "source": [
    "my_dict = {\"a\": 1, \"b\": 2}\n",
    "print(my_dict[\"c\"])  # KeyError: 'c'\n"
   ]
  },
  {
   "cell_type": "markdown",
   "metadata": {},
   "source": [
    "4.Name Error->\n",
    "A NameError is raised when you try to use a variable or function name that has not been defined. This typically occurs when you reference a variable or function that has not been assigned any value or has not been declared.\n",
    "ex:\n",
    "1.Using an Undefined Variable:\n",
    "\n",
    "Trying to use a variable that has not been defined.\n",
    "\n",
    "2.Misspelling Variable Names:\n",
    "\n",
    "Typographical errors in the variable name\n"
   ]
  },
  {
   "cell_type": "code",
   "execution_count": null,
   "metadata": {},
   "outputs": [],
   "source": [
    "print(x)  # NameError: name 'x' is not defined\n"
   ]
  },
  {
   "cell_type": "code",
   "execution_count": null,
   "metadata": {},
   "outputs": [],
   "source": [
    "my_var = 10\n",
    "print(my_vaar)  # NameError: name 'my_vaar' is not defined\n"
   ]
  },
  {
   "cell_type": "markdown",
   "metadata": {},
   "source": [
    "5.Type Error->\n",
    "A TypeError is raised when an operation or function is applied to an object of inappropriate type. This typically occurs when you try to perform an operation that is not supported by the data type of the objects involved\n",
    "ex:\n",
    "1.Adding Incompatible Types:\n",
    "\n",
    "Trying to add incompatible data types.\n",
    "\n",
    "2.Incorrect Argument Types:\n",
    "\n",
    "Passing arguments of incorrect types to functions.\n",
    "\n"
   ]
  },
  {
   "cell_type": "code",
   "execution_count": null,
   "metadata": {},
   "outputs": [],
   "source": [
    "print(5 + \"five\")  # TypeError: unsupported operand type(s) for +: 'int' and 'str'\n"
   ]
  },
  {
   "cell_type": "code",
   "execution_count": null,
   "metadata": {},
   "outputs": [],
   "source": [
    "def add(a, b):\n",
    "    return a + b\n",
    "\n",
    "add(5, \"five\")  # TypeError: unsupported operand type(s) for +: 'int' and 'str'\n"
   ]
  },
  {
   "cell_type": "markdown",
   "metadata": {},
   "source": [
    "6.Value Error->\n",
    "A ValueError is raised when an operation or function receives an argument that has the right type but an inappropriate value. This typically occurs when the value passed to a function or operation is not within the expected range or format.\n",
    "ex:\n",
    "Invalid Argument Values:\n",
    "\n",
    "Passing arguments to functions that are of the correct type but not appropriate values.\n",
    "python\n"
   ]
  },
  {
   "cell_type": "code",
   "execution_count": null,
   "metadata": {},
   "outputs": [],
   "source": [
    "int(\"abc\")  # ValueError: invalid literal for int() with base 10: 'abc'\n"
   ]
  },
  {
   "cell_type": "markdown",
   "metadata": {},
   "source": [
    "7.ZeroDivision Error->\n",
    "A ZeroDivisionError occurs in programming languages like Python when you attempt to divide a number by zero. It's a common error and typically happens in situations where the divisor (the number you're dividing by) is zero, which mathematically isn't defined. For example:\n"
   ]
  },
  {
   "cell_type": "code",
   "execution_count": null,
   "metadata": {},
   "outputs": [],
   "source": [
    "# Example causing ZeroDivisionError\n",
    "numerator = 10\n",
    "denominator = 0\n",
    "result = numerator / denominator\n"
   ]
  },
  {
   "cell_type": "markdown",
   "metadata": {},
   "source": [
    "8.FileNotFound Error->\n",
    "\n",
    "A FileNotFoundError occurs in programming when an operation attempts to access or open a file that does not exist in the specified location. This can happen for various reasons, such as:\n",
    "\n",
    "Incorrect File Path: The path provided to access the file is incorrect or the file doesn't exist at that location.\n",
    "\n",
    "File Deleted or Moved: The file might have been deleted or moved to a different location.\n",
    "\n",
    "Permissions Issue: The program might not have the necessary permissions to access the file.\n",
    "ex:\n"
   ]
  },
  {
   "cell_type": "code",
   "execution_count": null,
   "metadata": {},
   "outputs": [],
   "source": [
    "# Attempting to open a file that doesn't exist\n",
    "# try:\n",
    "with open('nonexistent_file.txt', 'r') as file:\n",
    "    content = file.read()\n",
    "    print(content)\n",
    "# except FileNotFoundError:\n",
    "    # print(\"Error: The file does not exist or the path is incorrect.\")\n"
   ]
  },
  {
   "cell_type": "markdown",
   "metadata": {},
   "source": [
    "9.Syntax Error->\n",
    "A syntax error occurs in programming when the code violates the syntax rules of the programming language. These errors prevent the interpreter or compiler from understanding or executing the code correctly. Here's an example in Python that demonstrates a syntax error:\n",
    "\n"
   ]
  },
  {
   "cell_type": "code",
   "execution_count": null,
   "metadata": {},
   "outputs": [],
   "source": [
    "# Example causing a SyntaxError\n",
    "if True #:missing here\n",
    "    print(\"Hello, world!\")\n"
   ]
  },
  {
   "cell_type": "markdown",
   "metadata": {},
   "source": [
    "10.FileExist Error->\n",
    "In Python, there isn't a built-in exception called FileExistError specifically for checking if a file exists. However, you can effectively handle scenarios where you want to ensure a file does not overwrite an existing file or perform certain actions based on its existence using different strategies.\n",
    "\n",
    "Checking if a File Exists Before Creating or Writing\n",
    "If you want to avoid overwriting an existing file or handle the situation where a file already exists, you can use functions from the os.path module or Python's Path object from the pathlib module. Here's an example:"
   ]
  },
  {
   "cell_type": "code",
   "execution_count": null,
   "metadata": {},
   "outputs": [],
   "source": [
    "import os\n",
    "\n",
    "file_path = 'example.txt'\n",
    "\n",
    "# Check if the file already exists\n",
    "if os.path.exists(file_path):\n",
    "    print(f\"Error: File '{file_path}' already exists.\")\n",
    "else:\n",
    "    # File does not exist, proceed with creating or writing to it\n",
    "    try:\n",
    "        with open(file_path, 'w') as file:\n",
    "            file.write(\"Hello, World!\")\n",
    "        print(f\"File '{file_path}' successfully created and written.\")\n",
    "    except IOError as e:\n",
    "        print(f\"Error writing to file: {e}\")\n"
   ]
  },
  {
   "cell_type": "markdown",
   "metadata": {},
   "source": [
    "In this example:\n",
    "\n",
    "1.We use os.path.exists(file_path) to check if the file specified by file_path already exists.\n",
    "2.If the file exists, it prints an error message indicating that the file already exists.\n",
    "3.If the file does not exist, it proceeds to open the file in write mode ('w') and writes some content to it."
   ]
  },
  {
   "cell_type": "markdown",
   "metadata": {},
   "source": [
    "11.INdentation Error->\n",
    "An indentation error in Python occurs when the spaces or tabs used for indentation do not follow Python's indentation rules consistently. Python uses indentation to indicate the block of code, such as within loops, conditional statements, function definitions, and so on. Here's an example that causes an indentation error:\n"
   ]
  },
  {
   "cell_type": "code",
   "execution_count": null,
   "metadata": {},
   "outputs": [],
   "source": [
    "def example_function():\n",
    "print(\"Hello, World!\")\n"
   ]
  },
  {
   "cell_type": "markdown",
   "metadata": {},
   "source": [
    "In this example:\n",
    "\n",
    "The print(\"Hello, World!\") statement should be indented with spaces or tabs to define it as part of the example_function function.\n",
    "Python expects an indented block of code after the colon (:) that follows the function definition."
   ]
  },
  {
   "cell_type": "markdown",
   "metadata": {},
   "source": [
    "12.ModuleNotFound Error->\n",
    "A ModuleNotFoundError in Python occurs when you try to import a module that Python cannot find or locate. This can happen for several reasons, such as:\n",
    "\n",
    "Module Not Installed: The module you're trying to import is not installed in your Python environment.\n",
    "\n",
    "Incorrect Module Name: There might be a typo or the module name you provided doesn't match the actual module name.\n",
    "\n",
    "Module Location: Python is unable to locate the module because it's not in the expected path or directory."
   ]
  },
  {
   "cell_type": "code",
   "execution_count": null,
   "metadata": {},
   "outputs": [],
   "source": [
    "# Example causing ModuleNotFoundError\n",
    "import non_existent_module\n"
   ]
  },
  {
   "cell_type": "markdown",
   "metadata": {},
   "source": [
    "In this example:\n",
    "\n",
    "We try to import a module named non_existent_module, which does not exist in the Python environment.\n",
    "Running this code will raise a ModuleNotFoundError because Python cannot find the module non_existent_module."
   ]
  },
  {
   "cell_type": "markdown",
   "metadata": {},
   "source": [
    "13.FileNOtFound Error->\n",
    "A FileNotFoundError in Python occurs when you attempt to perform operations on a file that doesn't exist in the specified location. This error typically happens when you try to open, read, write, or manipulate a file using functions like open() without checking if the file exists beforehand. Here's how you can handle a FileNotFoundError:"
   ]
  },
  {
   "cell_type": "code",
   "execution_count": null,
   "metadata": {},
   "outputs": [],
   "source": [
    "# try:\n",
    "file_path = 'nonexistent_file.txt'\n",
    "with open(file_path, 'r') as file:\n",
    "    content = file.read()\n",
    "print(\"File content:\", content)\n",
    "# except FileNotFoundError:\n",
    "    # print(f\"Error: The file '{file_path}' does not exist or the path is incorrect.\")\n",
    "# except IOError as e:\n",
    "    # print(f\"Error: An IOError occurred - {e}\")\n",
    "# except Exception as e:\n",
    "    # print(f\"Unexpected error: {e}\")\n"
   ]
  }
 ],
 "metadata": {
  "kernelspec": {
   "display_name": "Python 3",
   "language": "python",
   "name": "python3"
  },
  "language_info": {
   "codemirror_mode": {
    "name": "ipython",
    "version": 3
   },
   "file_extension": ".py",
   "mimetype": "text/x-python",
   "name": "python",
   "nbconvert_exporter": "python",
   "pygments_lexer": "ipython3",
   "version": "3.12.4"
  }
 },
 "nbformat": 4,
 "nbformat_minor": 2
}
