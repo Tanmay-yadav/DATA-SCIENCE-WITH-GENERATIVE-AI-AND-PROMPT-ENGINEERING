{
 "cells": [
  {
   "cell_type": "markdown",
   "metadata": {},
   "source": [
    "Object oriented programming:\n",
    "_______________________________\n",
    "Object-Oriented Programming (OOP) is a programming paradigm based on the concept of \"objects,\" which can contain data in the form of fields (often known as attributes or properties) and code in the form of procedures (often known as methods). OOP focuses on objects that interact with one another, making it a powerful way to organize and structure software."
   ]
  },
  {
   "cell_type": "markdown",
   "metadata": {},
   "source": [
    "CLASS:-> class is a blue print that  defines the way to write your code\n",
    "      ->user defined data type\n",
    "      -> declaring\n",
    "           class classname:\n",
    "           //////body///////\n",
    "       -> calling\n",
    "             \n",
    "             "
   ]
  },
  {
   "cell_type": "markdown",
   "metadata": {},
   "source": [
    "object?_---->An instance of a class. When a class is defined, no memory is allocated until an object of that class is created.\n",
    "\n",
    "\n",
    "In programming, particularly in object-oriented programming (OOP), an object is a self-contained unit that combines data and functions (also known as methods) that manipulate the data. Objects are instances of classes, which can be thought of as blueprints for creating objects.\n",
    "\n",
    "Key Concepts\n",
    "________________________________________________________________\n",
    "instance?---->A specific object created from a class. It represents an individual, concrete manifestation of the class with actual values assigned to the attributes defined by the class.\n"
   ]
  },
  {
   "cell_type": "markdown",
   "metadata": {},
   "source": [
    "\n",
    "what is a constructor?\n"
   ]
  },
  {
   "cell_type": "markdown",
   "metadata": {},
   "source": [
    "what are methods?\n",
    "\n",
    "In Python, methods are functions that are defined within a class and are used to operate on instances of that class. Methods typically have access to the instance they are called on (usually via the `self` parameter) and can modify the instance's state or perform operations using the instance's data.\n",
    "\n",
    "### Types of Methods in Python\n",
    "\n",
    "1. **Instance Methods**:\n",
    "   - These are the most common type of methods. They operate on an instance of the class and have access to the instance (`self`) and its attributes.\n",
    "   - Defined with the first parameter as `self`.\n",
    "\n",
    "   ```python\n",
    "   class MyClass:\n",
    "       def __init__(self, value):\n",
    "           self.value = value\n",
    "\n",
    "       def increment(self):\n",
    "           self.value += 1\n",
    "\n",
    "   obj = MyClass(5)\n",
    "   obj.increment()\n",
    "   print(obj.value)  # Output: 6\n",
    "   ```\n",
    "\n",
    "2. **Class Methods**:\n",
    "   - These methods are bound to the class and not the instance. They have access to the class itself via the `cls` parameter.\n",
    "   - Defined using the `@classmethod` decorator.\n",
    "\n",
    "   ```python\n",
    "   class MyClass:\n",
    "       count = 0\n",
    "\n",
    "       def __init__(self, value):\n",
    "           self.value = value\n",
    "           MyClass.count += 1\n",
    "\n",
    "       @classmethod\n",
    "       def get_count(cls):\n",
    "           return cls.count\n",
    "\n",
    "   obj1 = MyClass(5)\n",
    "   obj2 = MyClass(10)\n",
    "   print(MyClass.get_count())  # Output: 2\n",
    "   ```\n",
    "\n",
    "3. **Static Methods**:\n",
    "   - These methods do not have access to the instance (`self`) or the class (`cls`). They behave like regular functions but belong to the class's namespace.\n",
    "   - Defined using the `@staticmethod` decorator.\n",
    "\n",
    "   ```python\n",
    "   class MyClass:\n",
    "       @staticmethod\n",
    "       def add(x, y):\n",
    "           return x + y\n",
    "\n",
    "   result = MyClass.add(5, 10)\n",
    "   print(result)  # Output: 15\n",
    "   ```\n",
    "\n",
    "### Example Class with Different Methods\n",
    "\n",
    "```python\n",
    "class MathOperations:\n",
    "    @staticmethod\n",
    "    def add(a, b):\n",
    "        return a + b\n",
    "\n",
    "    @staticmethod\n",
    "    def subtract(a, b):\n",
    "        return a - b\n",
    "\n",
    "    @classmethod\n",
    "    def describe(cls):\n",
    "        return f\"This class provides basic math operations.\"\n",
    "\n",
    "    def __init__(self, initial_value):\n",
    "        self.value = initial_value\n",
    "\n",
    "    def multiply(self, factor):\n",
    "        self.value *= factor\n",
    "\n",
    "    def divide(self, divisor):\n",
    "        if divisor != 0:\n",
    "            self.value /= divisor\n",
    "        else:\n",
    "            raise ValueError(\"Cannot divide by zero\")\n",
    "\n",
    "# Using the class\n",
    "print(MathOperations.add(10, 5))  # Static method\n",
    "print(MathOperations.describe())  # Class method\n",
    "\n",
    "calc = MathOperations(20)\n",
    "calc.multiply(2)  # Instance method\n",
    "print(calc.value)  # Output: 40\n",
    "calc.divide(4)  # Instance method\n",
    "print(calc.value)  # Output: 10\n",
    "```\n",
    "\n",
    "### Summary\n",
    "\n",
    "- **Instance Methods**: Operate on an instance of the class, accessing and modifying instance attributes.\n",
    "- **Class Methods**: Operate on the class itself, often used for factory methods or methods that affect the class state.\n",
    "- **Static Methods**: Do not operate on an instance or class; they are like regular functions but grouped within a class's namespace for organizational purposes.\n",
    "\n",
    "Methods in Python provide a way to encapsulate behavior and data, promoting object-oriented programming principles."
   ]
  },
  {
   "cell_type": "markdown",
   "metadata": {},
   "source": [
    "\n",
    "difference between function and method?\n"
   ]
  },
  {
   "cell_type": "code",
   "execution_count": 1,
   "metadata": {},
   "outputs": [],
   "source": [
    "class College:\n",
    "    # everything is properties of college present inside this class\n",
    "    # class variable\n",
    "     college_name=\"raffles university\"\n",
    "     college_city=\"neemrana\"\n",
    "    # constructor->it is a kind of special function which is used to initialize the variables\n",
    "\n",
    "    #  instance variable constructor\n",
    "    #  you will not be need to call the constructor\n",
    "    # constructor executes automaticaly when you will create an object\n",
    "    \n",
    "     def __init__(self,cse_hod,ece_hod,electrical_hod):\n",
    "        # instance variable\n",
    "        self.college_cse_hod =cse_hod # here college_cse_hod could be anyother name ec cs_hod,etc\n",
    "        self.college_ece_hod =ece_hod\n",
    "        self.college_electrical_hod = electrical_hod\n",
    "        self.student_marks=[25,42,35,42,41,47,49,39,29,46,47]\n",
    "        print(\"constructor called!\")\n",
    "     def display(self):\n",
    "        #  print(\"my college city\",college_city) this will show error\n",
    "         print(\"my collge name\",self.college_name)# this self==obj this reference to the object\n",
    "         print(\"my hod\",self.college_cse_hod)\n",
    "         print(\"my college city\",self.college_city)  \n",
    "\n",
    "     def average_marks(self):\n",
    "         marks=self.student_marks\n",
    "         print(marks)\n",
    "         totalsum=0\n",
    "         for item in marks:\n",
    "             totalsum+=item\n",
    "\n",
    "         average_marks= totalsum/len(marks)\n",
    "         return average_marks\n",
    "         \n",
    "\n"
   ]
  },
  {
   "cell_type": "markdown",
   "metadata": {},
   "source": [
    "## self is a default parameter\n",
    "\n",
    "In Python, the self keyword is used within a class to refer to the instance of the class itself. It is used to access instance variables and methods from within class methods. When defining methods in a class, the first parameter of each method (including the constructor) must be self, which represents the instance of the class.\n",
    "__init__ Method:\n",
    "\n",
    "This is the constructor method in Python. It initializes the object's attributes. The self parameter is used to refer to the instance variables name and age.\n"
   ]
  },
  {
   "cell_type": "code",
   "execution_count": 2,
   "metadata": {},
   "outputs": [
    {
     "name": "stdout",
     "output_type": "stream",
     "text": [
      "constructor called!\n"
     ]
    }
   ],
   "source": [
    "# College.college_city\n",
    "# College.college_name\n",
    "# College.college_cse_hod\n",
    "# obj =College() this will show type error\n",
    "# for accessing class varaiable outside from outside we use onject(obj)\n",
    "# obj =College(cse_hod=\"manoj sharma\",ece_hod=\"uday pratap\",electrical_hod=\"rahul trivedi\")\n",
    "obj1 =College(cse_hod=\"harsh sharma\",ece_hod=\"uday pratap\",electrical_hod=\"hariom trivedi\")\n",
    "# obj2 =College(cse_hod=\"harsh sharma\",ece_hod=\"uday pratap\",electrical_hod=\"hariom trivedi\")"
   ]
  },
  {
   "cell_type": "code",
   "execution_count": 3,
   "metadata": {},
   "outputs": [],
   "source": [
    "# obj.display()"
   ]
  },
  {
   "cell_type": "code",
   "execution_count": 4,
   "metadata": {},
   "outputs": [
    {
     "name": "stdout",
     "output_type": "stream",
     "text": [
      "[25, 42, 35, 42, 41, 47, 49, 39, 29, 46, 47]\n"
     ]
    },
    {
     "data": {
      "text/plain": [
       "40.18181818181818"
      ]
     },
     "execution_count": 4,
     "metadata": {},
     "output_type": "execute_result"
    }
   ],
   "source": [
    "obj1.average_marks()"
   ]
  },
  {
   "cell_type": "code",
   "execution_count": 5,
   "metadata": {},
   "outputs": [],
   "source": [
    "# obj2.display()"
   ]
  },
  {
   "cell_type": "code",
   "execution_count": 6,
   "metadata": {},
   "outputs": [],
   "source": [
    "# obj.college_cse_hod"
   ]
  },
  {
   "cell_type": "code",
   "execution_count": 7,
   "metadata": {},
   "outputs": [],
   "source": [
    "# object or instance\n",
    "# how to create an object\n",
    "# obj=College()\n",
    "\n",
    "\n",
    "# print(College.college_name)\n",
    "\n",
    "# print(college_name) this will show error"
   ]
  },
  {
   "cell_type": "code",
   "execution_count": 8,
   "metadata": {},
   "outputs": [],
   "source": [
    "# these are class variables\n",
    "# College.college_name\n",
    "\n",
    "# College.college_city"
   ]
  },
  {
   "cell_type": "code",
   "execution_count": 9,
   "metadata": {},
   "outputs": [],
   "source": [
    "# obj1=College()\n",
    "# obj2=College()\n",
    "# obj3=College()\n"
   ]
  },
  {
   "cell_type": "code",
   "execution_count": 10,
   "metadata": {},
   "outputs": [],
   "source": [
    "# obj1.college_name=\"poornima university\""
   ]
  },
  {
   "cell_type": "code",
   "execution_count": 11,
   "metadata": {},
   "outputs": [],
   "source": [
    "# print(/obj1.college_name)"
   ]
  },
  {
   "cell_type": "code",
   "execution_count": 12,
   "metadata": {},
   "outputs": [],
   "source": [
    "# print(obj2.college_name)"
   ]
  },
  {
   "cell_type": "code",
   "execution_count": 13,
   "metadata": {},
   "outputs": [],
   "source": [
    "# type(obj)\n"
   ]
  },
  {
   "cell_type": "code",
   "execution_count": 14,
   "metadata": {},
   "outputs": [],
   "source": [
    "class Hello:\n",
    "    def __init__(self):\n",
    "        self.random_number=[52,14,25,36,96,85,74,47,58,69,25,6,45,63,67,81,9,1,7,1,2,13,1,45,44]\n",
    "\n",
    "\n",
    "        \n",
    "        # method even no and odd no. count\n",
    "    def even_number(self):\n",
    "        print(self.random_number)\n",
    "        evensum=0\n",
    "        count=0\n",
    "        for items in self.random_number:\n",
    "            if items%2==0 and items!=0:\n",
    "                evensum+=items\n",
    "                count+=1\n",
    "\n",
    "\n",
    "        average_even=evensum/count \n",
    "        return average_even\n",
    "    \n",
    "    def target_finder(self,item):\n",
    "        number =self.random_number\n",
    "        index =0\n",
    "        for element in number:\n",
    "            if element==item:\n",
    "                return index\n",
    "\n",
    "            index+=1\n",
    "\n",
    "        return -1  \n",
    "    def odd_number(self):\n",
    "        number =self.random_number\n",
    "        count=0\n",
    "        for item in number:\n",
    "            if item %2!=0:\n",
    "                count+=1  \n",
    "        return count        \n",
    "\n",
    "                  "
   ]
  },
  {
   "cell_type": "markdown",
   "metadata": {},
   "source": [
    "In the provided method `odd_number`, `self.random_number` refers to an instance attribute named `random_number` of the class in which the method is defined. Let's break down the method and the usage of `self.random_number`:\n",
    "\n",
    "### The Method\n",
    "\n",
    "```python\n",
    "def odd_number(self):\n",
    "    number = self.random_number\n",
    "    count = 0\n",
    "    for item in number:\n",
    "        if item % 2 != 0:\n",
    "            count += 1\n",
    "    return count\n",
    "```\n",
    "\n",
    "### Explanation\n",
    "\n",
    "- **`self`**: This is a reference to the instance of the class. It is used to access instance attributes and methods from within the class. When a method is called on an instance, `self` allows the method to access the data and functions that belong to that instance.\n",
    "\n",
    "- **`self.random_number`**: This refers to an instance attribute named `random_number` that is expected to be a list (or another iterable) of numbers. This attribute should be defined elsewhere in the class, likely in the class's `__init__` method or another method that sets this attribute.\n",
    "\n",
    "- **`number = self.random_number`**: This line assigns the value of the `random_number` attribute (which should be a list of numbers) to the local variable `number`.\n",
    "\n",
    "- **`count = 0`**: Initializes a counter to zero. This counter will be used to count the odd numbers in the list.\n",
    "\n",
    "- **`for item in number`**: Iterates over each item in the list `number`.\n",
    "\n",
    "- **`if item % 2 != 0`**: Checks if the current item is an odd number. The modulo operation `%` returns the remainder of the division. If the remainder is not zero when divided by 2, the number is odd.\n",
    "\n",
    "- **`count += 1`**: If the item is odd, increments the counter by one.\n",
    "\n",
    "- **`return count`**: After the loop completes, returns the count of odd numbers in the list.\n",
    "\n",
    "### Example Class\n",
    "\n",
    "Here's an example of how this method might be part of a class:\n",
    "\n",
    "```python\n",
    "class NumberProcessor:\n",
    "    def __init__(self, random_number):\n",
    "        self.random_number = random_number\n",
    "\n",
    "    def odd_number(self):\n",
    "        number = self.random_number\n",
    "        count = 0\n",
    "        for item in number:\n",
    "            if item % 2 != 0:\n",
    "                count += 1\n",
    "        return count\n",
    "\n",
    "# Creating an instance of the class with a list of numbers\n",
    "processor = NumberProcessor([1, 2, 3, 4, 5, 6, 7, 8, 9])\n",
    "\n",
    "# Calling the odd_number method\n",
    "print(processor.odd_number())  # Output: 5 (since there are 5 odd numbers in the list)\n",
    "```\n",
    "\n",
    "### Summary\n",
    "\n",
    "- **`self.random_number`**: Accesses the `random_number` attribute of the instance, which is expected to be a list of numbers.\n",
    "- **Purpose**: The method `odd_number` counts how many odd numbers are present in the `random_number` list and returns that count."
   ]
  },
  {
   "cell_type": "code",
   "execution_count": 15,
   "metadata": {},
   "outputs": [
    {
     "name": "stdout",
     "output_type": "stream",
     "text": [
      "[52, 14, 25, 36, 96, 85, 74, 47, 58, 69, 25, 6, 45, 63, 67, 81, 9, 1, 7, 1, 2, 13, 1, 45, 44]\n"
     ]
    },
    {
     "data": {
      "text/plain": [
       "16"
      ]
     },
     "execution_count": 15,
     "metadata": {},
     "output_type": "execute_result"
    }
   ],
   "source": [
    "obj=Hello()\n",
    "obj.even_number()\n",
    "obj.target_finder(85)\n",
    "obj.odd_number()\n",
    "\n"
   ]
  },
  {
   "cell_type": "code",
   "execution_count": 16,
   "metadata": {},
   "outputs": [
    {
     "name": "stdout",
     "output_type": "stream",
     "text": [
      "Name: Alice, Age: 30\n",
      "Name: Bob, Age: 30\n"
     ]
    }
   ],
   "source": [
    "# example from chatgpt\n",
    "class Person:\n",
    "    def __init__(self, name, age):\n",
    "        self.name = name  # Using 'self' to refer to instance variable 'name'\n",
    "        self.age = age    # Using 'self' to refer to instance variable 'age'\n",
    "\n",
    "    def display_info(self):\n",
    "        print(f\"Name: {self.name}, Age: {self.age}\")  # Using 'self' to access instance variables\n",
    "\n",
    "    def set_name(self, name):\n",
    "        self.name = name  # Using 'self' to refer to the instance variable 'name'\n",
    "\n",
    "# Creating an object of the Person class\n",
    "person1 = Person(\"Alice\", 30)\n",
    "person1.display_info()  # Output: Name: Alice, Age: 30\n",
    "\n",
    "# Changing the name using the set_name method\n",
    "person1.set_name(\"Bob\")\n",
    "person1.display_info()  # Output: Name: Bob, Age: 30\n",
    "\n",
    "# Explanation\n",
    "# __init__ Method:\n",
    "\n",
    "# This is the constructor method in Python. It initializes the object's attributes. The self parameter is used to refer to the instance variables name and age.\n",
    "# display_info Method:\n",
    "\n",
    "# This method uses self to access the instance variables name and age and print them.\n",
    "# set_name Method:\n",
    "\n",
    "# This method uses self to modify the instance variable name.\n",
    "# Key Points\n",
    "# Instance Variables: Using self.name and self.age allows the method to reference the attributes of the particular instance of the class.\n",
    "# Instance Methods: When you define a method within a class, you need to include self as the first parameter to ensure the method can access the instance's attributes and other methods.\n",
    "# Creating Objects: When you create an object of the class, like person1 = Person(\"Alice\", 30), the self parameter automatically refers to person1 in the methods.\n",
    "\n"
   ]
  },
  {
   "cell_type": "code",
   "execution_count": 17,
   "metadata": {},
   "outputs": [],
   "source": [
    "# _____________________homework______\n",
    "# ........percentage finder and many more  questions on class.............."
   ]
  }
 ],
 "metadata": {
  "kernelspec": {
   "display_name": "Python 3",
   "language": "python",
   "name": "python3"
  },
  "language_info": {
   "codemirror_mode": {
    "name": "ipython",
    "version": 3
   },
   "file_extension": ".py",
   "mimetype": "text/x-python",
   "name": "python",
   "nbconvert_exporter": "python",
   "pygments_lexer": "ipython3",
   "version": "3.12.4"
  }
 },
 "nbformat": 4,
 "nbformat_minor": 2
}
